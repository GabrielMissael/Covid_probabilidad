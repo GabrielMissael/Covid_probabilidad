{
 "cells": [
  {
   "cell_type": "markdown",
   "metadata": {},
   "source": [
    "# Análisis de datos sobre el COVID-19 en México"
   ]
  },
  {
   "cell_type": "markdown",
   "metadata": {},
   "source": [
    "Datos recolectados de: https://datos.gob.mx/busca/dataset/informacion-referente-a-casos-covid-19-en-mexico8 (Consultado el 27/05/2020)"
   ]
  },
  {
   "cell_type": "markdown",
   "metadata": {},
   "source": [
    "## Requisitos:\n",
    "- Python versión >= 3.0\n",
    "- numpy\n",
    "- pandas\n",
    "- matplotlib"
   ]
  },
  {
   "cell_type": "markdown",
   "metadata": {},
   "source": [
    "**NOTA:** El código se explica en forma de comentarios arriba del código correspondiente, ejemplo:\n",
    "```python\n",
    "# El siguiente código suma 3+7 y lo guarda en una variable 'a' y lo imprimimos\n",
    "a = 3 + 7\n",
    "print(a)\n",
    "```\n",
    "__Aunque si los comentarios son muy largos, se podrán poner en una celda aparte en formato texto, por ejemplo:__"
   ]
  },
  {
   "cell_type": "markdown",
   "metadata": {},
   "source": [
    "El siguiente es un ejemplo de la alternativa para explicar el código, la siguiente celda suma 3 + 7"
   ]
  },
  {
   "cell_type": "code",
   "execution_count": 1,
   "metadata": {},
   "outputs": [
    {
     "name": "stdout",
     "output_type": "stream",
     "text": [
      "10\n"
     ]
    }
   ],
   "source": [
    "a = 3+7\n",
    "print(a)"
   ]
  },
  {
   "cell_type": "markdown",
   "metadata": {},
   "source": [
    "# Bien, empezamos a analizar nuestros datos"
   ]
  },
  {
   "cell_type": "code",
   "execution_count": 2,
   "metadata": {},
   "outputs": [],
   "source": [
    "# Primero hay que importar todos nuestros requisitos\n",
    "import numpy as np\n",
    "import pandas as pd\n",
    "import matplotlib.pyplot as plt\n",
    "import math as mt\n",
    "from datetime import date\n",
    "import scipy.stats as ss"
   ]
  },
  {
   "cell_type": "code",
   "execution_count": 3,
   "metadata": {},
   "outputs": [],
   "source": [
    "# Ahora, creamos nuestra variable \"datos\" que es donde se almacenarán nuestros datos en forma de \n",
    "# DataFrame de pandas\n",
    "datos = pd.read_csv('datos_abiertos_covid19/200527COVID19MEXICO.csv')"
   ]
  },
  {
   "cell_type": "code",
   "execution_count": 4,
   "metadata": {},
   "outputs": [],
   "source": [
    "# El siguiente código es para tener una visión completa de los datos\n",
    "pd.set_option('display.max_columns', None)  # or 1000\n",
    "pd.set_option('display.max_rows', None)  # or 1000"
   ]
  },
  {
   "cell_type": "code",
   "execution_count": 5,
   "metadata": {},
   "outputs": [
    {
     "data": {
      "text/html": [
       "<div>\n",
       "<style scoped>\n",
       "    .dataframe tbody tr th:only-of-type {\n",
       "        vertical-align: middle;\n",
       "    }\n",
       "\n",
       "    .dataframe tbody tr th {\n",
       "        vertical-align: top;\n",
       "    }\n",
       "\n",
       "    .dataframe thead th {\n",
       "        text-align: right;\n",
       "    }\n",
       "</style>\n",
       "<table border=\"1\" class=\"dataframe\">\n",
       "  <thead>\n",
       "    <tr style=\"text-align: right;\">\n",
       "      <th></th>\n",
       "      <th>ID_REGISTRO</th>\n",
       "      <th>SECTOR</th>\n",
       "      <th>ENTIDAD_UM</th>\n",
       "      <th>SEXO</th>\n",
       "      <th>ENTIDAD_RES</th>\n",
       "      <th>TIPO_PACIENTE</th>\n",
       "      <th>FECHA_INGRESO</th>\n",
       "      <th>FECHA_SINTOMAS</th>\n",
       "      <th>FECHA_DEF</th>\n",
       "      <th>INTUBADO</th>\n",
       "      <th>NEUMONIA</th>\n",
       "      <th>EDAD</th>\n",
       "      <th>EMBARAZO</th>\n",
       "      <th>DIABETES</th>\n",
       "      <th>EPOC</th>\n",
       "      <th>ASMA</th>\n",
       "      <th>INMUSUPR</th>\n",
       "      <th>HIPERTENSION</th>\n",
       "      <th>CARDIOVASCULAR</th>\n",
       "      <th>OBESIDAD</th>\n",
       "      <th>RENAL_CRONICA</th>\n",
       "      <th>TABAQUISMO</th>\n",
       "      <th>OTRO_CASO</th>\n",
       "      <th>RESULTADO</th>\n",
       "      <th>UCI</th>\n",
       "    </tr>\n",
       "  </thead>\n",
       "  <tbody>\n",
       "    <tr>\n",
       "      <th>0</th>\n",
       "      <td>1ba22b</td>\n",
       "      <td>3</td>\n",
       "      <td>25</td>\n",
       "      <td>2</td>\n",
       "      <td>25</td>\n",
       "      <td>2</td>\n",
       "      <td>23/04/2020</td>\n",
       "      <td>16/04/2020</td>\n",
       "      <td>27/04/2020</td>\n",
       "      <td>1</td>\n",
       "      <td>1</td>\n",
       "      <td>55</td>\n",
       "      <td>97</td>\n",
       "      <td>1</td>\n",
       "      <td>2</td>\n",
       "      <td>2</td>\n",
       "      <td>2</td>\n",
       "      <td>1</td>\n",
       "      <td>1</td>\n",
       "      <td>1</td>\n",
       "      <td>2</td>\n",
       "      <td>2</td>\n",
       "      <td>99</td>\n",
       "      <td>1</td>\n",
       "      <td>2</td>\n",
       "    </tr>\n",
       "    <tr>\n",
       "      <th>1</th>\n",
       "      <td>00b59f</td>\n",
       "      <td>3</td>\n",
       "      <td>27</td>\n",
       "      <td>2</td>\n",
       "      <td>27</td>\n",
       "      <td>2</td>\n",
       "      <td>24/04/2020</td>\n",
       "      <td>20/04/2020</td>\n",
       "      <td>9999-99-99</td>\n",
       "      <td>2</td>\n",
       "      <td>1</td>\n",
       "      <td>103</td>\n",
       "      <td>97</td>\n",
       "      <td>2</td>\n",
       "      <td>2</td>\n",
       "      <td>2</td>\n",
       "      <td>2</td>\n",
       "      <td>2</td>\n",
       "      <td>2</td>\n",
       "      <td>2</td>\n",
       "      <td>2</td>\n",
       "      <td>2</td>\n",
       "      <td>1</td>\n",
       "      <td>1</td>\n",
       "      <td>1</td>\n",
       "    </tr>\n",
       "    <tr>\n",
       "      <th>2</th>\n",
       "      <td>157def</td>\n",
       "      <td>4</td>\n",
       "      <td>2</td>\n",
       "      <td>2</td>\n",
       "      <td>26</td>\n",
       "      <td>2</td>\n",
       "      <td>08/04/2020</td>\n",
       "      <td>08/04/2020</td>\n",
       "      <td>9999-99-99</td>\n",
       "      <td>2</td>\n",
       "      <td>1</td>\n",
       "      <td>40</td>\n",
       "      <td>97</td>\n",
       "      <td>2</td>\n",
       "      <td>2</td>\n",
       "      <td>2</td>\n",
       "      <td>2</td>\n",
       "      <td>2</td>\n",
       "      <td>2</td>\n",
       "      <td>2</td>\n",
       "      <td>2</td>\n",
       "      <td>2</td>\n",
       "      <td>99</td>\n",
       "      <td>1</td>\n",
       "      <td>2</td>\n",
       "    </tr>\n",
       "    <tr>\n",
       "      <th>3</th>\n",
       "      <td>170aea</td>\n",
       "      <td>4</td>\n",
       "      <td>9</td>\n",
       "      <td>2</td>\n",
       "      <td>15</td>\n",
       "      <td>1</td>\n",
       "      <td>16/04/2020</td>\n",
       "      <td>08/04/2020</td>\n",
       "      <td>29/04/2020</td>\n",
       "      <td>97</td>\n",
       "      <td>2</td>\n",
       "      <td>70</td>\n",
       "      <td>97</td>\n",
       "      <td>1</td>\n",
       "      <td>2</td>\n",
       "      <td>2</td>\n",
       "      <td>2</td>\n",
       "      <td>1</td>\n",
       "      <td>2</td>\n",
       "      <td>2</td>\n",
       "      <td>2</td>\n",
       "      <td>1</td>\n",
       "      <td>99</td>\n",
       "      <td>1</td>\n",
       "      <td>97</td>\n",
       "    </tr>\n",
       "    <tr>\n",
       "      <th>4</th>\n",
       "      <td>01dea4</td>\n",
       "      <td>4</td>\n",
       "      <td>9</td>\n",
       "      <td>2</td>\n",
       "      <td>9</td>\n",
       "      <td>1</td>\n",
       "      <td>20/04/2020</td>\n",
       "      <td>07/04/2020</td>\n",
       "      <td>30/04/2020</td>\n",
       "      <td>97</td>\n",
       "      <td>2</td>\n",
       "      <td>36</td>\n",
       "      <td>97</td>\n",
       "      <td>2</td>\n",
       "      <td>2</td>\n",
       "      <td>2</td>\n",
       "      <td>2</td>\n",
       "      <td>2</td>\n",
       "      <td>2</td>\n",
       "      <td>1</td>\n",
       "      <td>2</td>\n",
       "      <td>2</td>\n",
       "      <td>99</td>\n",
       "      <td>1</td>\n",
       "      <td>97</td>\n",
       "    </tr>\n",
       "  </tbody>\n",
       "</table>\n",
       "</div>"
      ],
      "text/plain": [
       "  ID_REGISTRO  SECTOR  ENTIDAD_UM  SEXO  ENTIDAD_RES  TIPO_PACIENTE  \\\n",
       "0      1ba22b       3          25     2           25              2   \n",
       "1      00b59f       3          27     2           27              2   \n",
       "2      157def       4           2     2           26              2   \n",
       "3      170aea       4           9     2           15              1   \n",
       "4      01dea4       4           9     2            9              1   \n",
       "\n",
       "  FECHA_INGRESO FECHA_SINTOMAS   FECHA_DEF  INTUBADO  NEUMONIA  EDAD  \\\n",
       "0    23/04/2020     16/04/2020  27/04/2020         1         1    55   \n",
       "1    24/04/2020     20/04/2020  9999-99-99         2         1   103   \n",
       "2    08/04/2020     08/04/2020  9999-99-99         2         1    40   \n",
       "3    16/04/2020     08/04/2020  29/04/2020        97         2    70   \n",
       "4    20/04/2020     07/04/2020  30/04/2020        97         2    36   \n",
       "\n",
       "   EMBARAZO  DIABETES  EPOC  ASMA  INMUSUPR  HIPERTENSION  CARDIOVASCULAR  \\\n",
       "0        97         1     2     2         2             1               1   \n",
       "1        97         2     2     2         2             2               2   \n",
       "2        97         2     2     2         2             2               2   \n",
       "3        97         1     2     2         2             1               2   \n",
       "4        97         2     2     2         2             2               2   \n",
       "\n",
       "   OBESIDAD  RENAL_CRONICA  TABAQUISMO  OTRO_CASO  RESULTADO  UCI  \n",
       "0         1              2           2         99          1    2  \n",
       "1         2              2           2          1          1    1  \n",
       "2         2              2           2         99          1    2  \n",
       "3         2              2           1         99          1   97  \n",
       "4         1              2           2         99          1   97  "
      ]
     },
     "execution_count": 5,
     "metadata": {},
     "output_type": "execute_result"
    }
   ],
   "source": [
    "# Vemos las estructura que tienen los datos\n",
    "datos.head()"
   ]
  },
  {
   "cell_type": "markdown",
   "metadata": {},
   "source": [
    "Las columnas que tienen solo números, tienen su respectivo diccionario, es decir, qué significa cada cosa, \n",
    "por ejemplo, si hay un \"2\" en la columna de \"sexo\" entonces significa que es hombre, como abajo se indica."
   ]
  },
  {
   "cell_type": "code",
   "execution_count": 6,
   "metadata": {},
   "outputs": [],
   "source": [
    "# Diccionario de indicación simple, correspondiente a las columnas:\n",
    "# \"EMBARAZO\", \"DIABETES\", \"EPOC\", \"ASMA\", \"INMUSUPR\",  \"HIPERTENSION\", \"CARDIOVASCULAR\", \"OBESIDAD\"\n",
    "# \"RENAL_CRONICA\", \"TABAQUISMO\", \"OTRO_CASO\", \"INTUBADO\", \"NEUMONIA\"\n",
    "si_no = {\n",
    "        '1':'SI', \n",
    "        '2':'NO', \n",
    "        '97':'NO APLICA', \n",
    "        '98':'SE IGNORA', \n",
    "        '99':'NO ESPECIFICADO'}\n",
    "\n",
    "# Diccionario que indica el sexo, correspondiente a la columna \"SEXO\"\n",
    "sexo = {\n",
    "        '1':'MUJER',\n",
    "        '2':'HOMBRE',\n",
    "        '99':'NO ESPECIFICADO'\n",
    "        }\n",
    "\n",
    "# Diccionario que indica el sector de cada paciente, Correspondiente a la columna \"SECTOR\"\n",
    "sector = {\n",
    "        '1': 'CRUZ ROJA',\n",
    "        '2': 'DIF',\n",
    "        '3': 'ESTATAL',\n",
    "        '4': 'IMSS',\n",
    "        '5': 'IMSS-BIENESTAR',\n",
    "        '6': 'ISSSTE',\n",
    "        '7': 'MUNICIPAL',\n",
    "        '8': 'PEMEX',\n",
    "        '9': 'PRIVADA',\n",
    "        '10': 'SEDENA',\n",
    "        '11': 'SEMAR',\n",
    "        '12': 'SSA',\n",
    "        '13': 'UNIVERSITARIO',\n",
    "        '99': 'NO ESPECIFICADO'\n",
    "        }\n",
    "# Diccionario que indica el estado de cada paciente, correspondiente a la columna \"TIPO_PACIENTE\"\n",
    "paciente = {\n",
    "        '1':'AMBULATORIO',\n",
    "        '2':'HOSPITALIZADO',\n",
    "        '99':'NO ESPECIFICADO'\n",
    "        }\n",
    "# Diccionario que indica el resultado del paciente, correspondiente a la columna \"RESULTADO\"\n",
    "resultado = {\n",
    "        '1':'Positivo SARS-CoV-2',\n",
    "        '2':'No positivo SARS-CoV-2',\n",
    "        '3':'Resultado pendiente'\n",
    "        }\n",
    "\n",
    "# Diccionario que indica la ubicación del paciente, correspondiente a la columna \"ENTIDAD_RES\"\n",
    "entidades = {\n",
    "        '01': 'AGUASCALIENTES',\n",
    "        '02': 'BAJA CALIFORNIA',\n",
    "        '03': 'BAJA CALIFORNIA SUR',\n",
    "        '04': 'CAMPECHE',\n",
    "        '05': 'COAHUILA DE ZARAGOZA',\n",
    "        '06': 'COLIMA',\n",
    "        '07': 'CHIAPAS',\n",
    "        '08': 'CHIHUAHUA',\n",
    "        '09': 'CIUDAD DE MÉXICO',\n",
    "        '10': 'DURANGO',\n",
    "        '11': 'GUANAJUATO',\n",
    "        '12': 'GUERRERO',\n",
    "        '13': 'HIDALGO',\n",
    "        '14': 'JALISCO',\n",
    "        '15': 'MÉXICO',\n",
    "        '16': 'MICHOACÁN DE OCAMPO',\n",
    "        '17': 'MORELOS',\n",
    "        '18': 'NAYARIT',\n",
    "        '19': 'NUEVO LEÓN',\n",
    "        '20': 'OAXACA',\n",
    "        '21': 'PUEBLA',\n",
    "        '22': 'QUERÉTARO',\n",
    "        '23': 'QUINTANA ROO',\n",
    "        '24': 'SAN LUIS POTOSÍ',\n",
    "        '25': 'SINALOA',\n",
    "        '26': 'SONORA',\n",
    "        '27': 'TABASCO',\n",
    "        '28': 'TAMAULIPAS',\n",
    "        '29': 'TLAXCALA',\n",
    "        '30': 'VERACRUZ DE IGNACIO DE LA LLAVE',\n",
    "        '31': 'YUCATÁN',\n",
    "        '32': 'ZACATECAS',\n",
    "        '36': 'ESTADOS UNIDOS MEXICANOS',\n",
    "        '97': 'NO APLICA',\n",
    "        '98': 'SE IGNORA',\n",
    "        '99': 'NO ESPECIFICADO'\n",
    "}"
   ]
  },
  {
   "cell_type": "markdown",
   "metadata": {},
   "source": [
    "Ahora creo un diccionario de que cátalogo le corresponde cada columna del dataframe:"
   ]
  },
  {
   "cell_type": "code",
   "execution_count": 7,
   "metadata": {},
   "outputs": [],
   "source": [
    "# Ahora, creamos un diccionario que nos permita relacionar cada columna con su respectivo catálogo, \n",
    "# mostrado y especificado anteriormente\n",
    "columna = {\n",
    "        'SECTOR': sector,                                                            \n",
    "        'ENTIDAD_UM': entidades,\n",
    "        'SEXO': sexo,                    \n",
    "        'ENTIDAD_RES': entidades,\n",
    "        'TIPO_PACIENTE': paciente,\n",
    "        'RESULTADO': resultado,\n",
    "        'INTUBADO':si_no,\t                                                             \n",
    "        'NEUMONIA':si_no,                                                          \n",
    "        'EMBARAZO':si_no,\t                                                              \n",
    "        'DIABETES':si_no,\t                                                                \n",
    "        'EPOC':si_no,                                                           \n",
    "        'ASMA':si_no,                                                               \n",
    "        'INMUSUPR':si_no,\t                                                                \n",
    "        'HIPERTENSION':si_no,                                                                 \n",
    "        'CARDIOVASCULAR':si_no,\t                                                                 \n",
    "        'OBESIDAD':si_no,                                                                  \n",
    "        'RENAL_CRONICA':si_no,                                                       \n",
    "        'TABAQUISMO':si_no,\t                                                            \n",
    "        'OTRO_CASO':si_no,\t                                                                       \n",
    "        'UCI':si_no                                                                  \n",
    "}"
   ]
  },
  {
   "cell_type": "code",
   "execution_count": 8,
   "metadata": {},
   "outputs": [
    {
     "name": "stdout",
     "output_type": "stream",
     "text": [
      "HOMBRE\n",
      "COAHUILA DE ZARAGOZA\n"
     ]
    }
   ],
   "source": [
    "# Dos ejemplos de las consulta de este último catálogo es la siguiente\n",
    "print(columna['SEXO']['2'])\n",
    "\n",
    "print(columna['ENTIDAD_RES']['05'])"
   ]
  },
  {
   "cell_type": "markdown",
   "metadata": {},
   "source": [
    "# Probabilidad de muerte y hospitalización dada una complicación de salud previa\n",
    "\n",
    "En este caso calcularemos la probabilidad de morir dado que se tiene cierta complicación de salud. (**Ojo:** Toda la muestra de análisis está confirmada con Coronavirus). "
   ]
  },
  {
   "cell_type": "code",
   "execution_count": 9,
   "metadata": {},
   "outputs": [
    {
     "data": {
      "text/plain": [
       "Index(['ID_REGISTRO', 'SECTOR', 'ENTIDAD_UM', 'SEXO', 'ENTIDAD_RES',\n",
       "       'TIPO_PACIENTE', 'FECHA_INGRESO', 'FECHA_SINTOMAS', 'FECHA_DEF',\n",
       "       'INTUBADO', 'NEUMONIA', 'EDAD', 'EMBARAZO', 'DIABETES', 'EPOC', 'ASMA',\n",
       "       'INMUSUPR', 'HIPERTENSION', 'CARDIOVASCULAR', 'OBESIDAD',\n",
       "       'RENAL_CRONICA', 'TABAQUISMO', 'OTRO_CASO', 'RESULTADO', 'UCI'],\n",
       "      dtype='object')"
      ]
     },
     "execution_count": 9,
     "metadata": {},
     "output_type": "execute_result"
    }
   ],
   "source": [
    "# Sólo nos interesan los casos positivos, por ende, los filtramos a una variable llamada \"enfermos\" \n",
    "enfermos = datos[datos['RESULTADO'] == 1]\n",
    "# Verificamos que tenga las columnas correspondientes y todo marche bien\n",
    "enfermos.columns"
   ]
  },
  {
   "cell_type": "markdown",
   "metadata": {},
   "source": [
    "**NOTA**: Los pacientes que no tienen fecha de defunción están marcados en la columna 'FECHA_DEF' con el número '9999-99-99', usaremos esto para calcular las muertes totales"
   ]
  },
  {
   "cell_type": "code",
   "execution_count": 10,
   "metadata": {},
   "outputs": [
    {
     "name": "stdout",
     "output_type": "stream",
     "text": [
      "Probabilidad de muerte general: P(MG) = 0.11018545813413994\n",
      "Probabilidad de hospitalización general: P(HG) = 0.3620470886789793\n"
     ]
    }
   ],
   "source": [
    "# Obtenemos la probabilidad general de muertes\n",
    "enfermos_totales = len(enfermos) # Número de enfermos\n",
    "muertos_totales = len(enfermos[enfermos['FECHA_DEF'] != '9999-99-99']) # Número de defunciones\n",
    "hospitalizados_totales = len(enfermos[enfermos['TIPO_PACIENTE'] == 2]) # Número de hospitalizados\n",
    "\n",
    "p_general_muerte = muertos_totales/enfermos_totales # Probabilidad general de muerte (Sin considerar otras complicaciones)\n",
    "p_general_hosp = hospitalizados_totales/enfermos_totales # Probailidad de ser hospitazado\n",
    "print(f\"Probabilidad de muerte general: P(MG) = {p_general_muerte}\")\n",
    "print(f\"Probabilidad de hospitalización general: P(HG) = {p_general_hosp}\")"
   ]
  },
  {
   "cell_type": "code",
   "execution_count": 11,
   "metadata": {},
   "outputs": [
    {
     "name": "stdout",
     "output_type": "stream",
     "text": [
      "Probabilidad de muerte sólo por coronavirus: P(MC) = 0.03169263456090651\n",
      "Probabilidad de hospitalizado sólo por coronavirus: P(HC) = 0.18047686496694995\n"
     ]
    }
   ],
   "source": [
    "# El siguiente código calcula la probabilidad de muerte de una persona sin complicaciones de salud\n",
    "# Sólo CORONAVIRUS\n",
    "complicaciones = enfermos.columns[12:22]   # Arreglo lleno de los nombres de las complicaciones\n",
    "\n",
    "sin_comp = datos[datos['RESULTADO'] == 1]  # Filtramos solo confirmados con COVID\n",
    "\n",
    "# Recorremos cada complicación y nos aseguramos de que filtrar todas las que tienen número 2, es decir, \"NO\".\n",
    "for i, complicacion in enumerate(complicaciones):\n",
    "    sin_comp = sin_comp[sin_comp[complicacion] == 2]\n",
    "    \n",
    "# Obtenemos el tamaño del arreglo, los hospitalizados sólo con Coronavirus y los muertos sólo por coronavirus\n",
    "n_sin_comp = len(sin_comp)\n",
    "hosp_sin_comp = len(sin_comp[sin_comp['TIPO_PACIENTE'] == 2])\n",
    "muertos_sin_comp = len(sin_comp[sin_comp['FECHA_DEF'] != '9999-99-99'])\n",
    "\n",
    "# Obtenemos la probabilidad de: \n",
    "p_sano_muerte = muertos_sin_comp/n_sin_comp # Muerto sólo por coronavirus\n",
    "p_sano_hosp = hosp_sin_comp/n_sin_comp # Hospitalizado sólo por coronavirus\n",
    "\n",
    "# Imprimimos resultados\n",
    "print(f\"Probabilidad de muerte sólo por coronavirus: P(MC) = {p_sano_muerte}\")\n",
    "print(f\"Probabilidad de hospitalizado sólo por coronavirus: P(HC) = {p_sano_hosp}\")"
   ]
  },
  {
   "cell_type": "code",
   "execution_count": 12,
   "metadata": {},
   "outputs": [
    {
     "data": {
      "text/html": [
       "<div>\n",
       "<style scoped>\n",
       "    .dataframe tbody tr th:only-of-type {\n",
       "        vertical-align: middle;\n",
       "    }\n",
       "\n",
       "    .dataframe tbody tr th {\n",
       "        vertical-align: top;\n",
       "    }\n",
       "\n",
       "    .dataframe thead th {\n",
       "        text-align: right;\n",
       "    }\n",
       "</style>\n",
       "<table border=\"1\" class=\"dataframe\">\n",
       "  <thead>\n",
       "    <tr style=\"text-align: right;\">\n",
       "      <th></th>\n",
       "      <th>Complicación</th>\n",
       "      <th>Casos</th>\n",
       "      <th>Hospitalizados</th>\n",
       "      <th>Defunciones</th>\n",
       "      <th>Probabilidad muerte</th>\n",
       "      <th>Probabilidad hospitalizacion</th>\n",
       "    </tr>\n",
       "  </thead>\n",
       "  <tbody>\n",
       "    <tr>\n",
       "      <th>0</th>\n",
       "      <td>EMBARAZO</td>\n",
       "      <td>486</td>\n",
       "      <td>152</td>\n",
       "      <td>13</td>\n",
       "      <td>0.026749</td>\n",
       "      <td>0.312757</td>\n",
       "    </tr>\n",
       "    <tr>\n",
       "      <th>11</th>\n",
       "      <td>SANOS</td>\n",
       "      <td>16944</td>\n",
       "      <td>3058</td>\n",
       "      <td>537</td>\n",
       "      <td>0.031693</td>\n",
       "      <td>0.180477</td>\n",
       "    </tr>\n",
       "    <tr>\n",
       "      <th>3</th>\n",
       "      <td>ASMA</td>\n",
       "      <td>2290</td>\n",
       "      <td>669</td>\n",
       "      <td>196</td>\n",
       "      <td>0.085590</td>\n",
       "      <td>0.292140</td>\n",
       "    </tr>\n",
       "    <tr>\n",
       "      <th>10</th>\n",
       "      <td>GENERAL</td>\n",
       "      <td>78023</td>\n",
       "      <td>28248</td>\n",
       "      <td>8597</td>\n",
       "      <td>0.110185</td>\n",
       "      <td>0.362047</td>\n",
       "    </tr>\n",
       "    <tr>\n",
       "      <th>9</th>\n",
       "      <td>TABAQUISMO</td>\n",
       "      <td>6470</td>\n",
       "      <td>2444</td>\n",
       "      <td>812</td>\n",
       "      <td>0.125502</td>\n",
       "      <td>0.377743</td>\n",
       "    </tr>\n",
       "    <tr>\n",
       "      <th>7</th>\n",
       "      <td>OBESIDAD</td>\n",
       "      <td>16053</td>\n",
       "      <td>6784</td>\n",
       "      <td>2306</td>\n",
       "      <td>0.143649</td>\n",
       "      <td>0.422600</td>\n",
       "    </tr>\n",
       "    <tr>\n",
       "      <th>4</th>\n",
       "      <td>INMUSUPR</td>\n",
       "      <td>1216</td>\n",
       "      <td>730</td>\n",
       "      <td>262</td>\n",
       "      <td>0.215461</td>\n",
       "      <td>0.600329</td>\n",
       "    </tr>\n",
       "    <tr>\n",
       "      <th>5</th>\n",
       "      <td>HIPERTENSION</td>\n",
       "      <td>16444</td>\n",
       "      <td>9297</td>\n",
       "      <td>3583</td>\n",
       "      <td>0.217891</td>\n",
       "      <td>0.565373</td>\n",
       "    </tr>\n",
       "    <tr>\n",
       "      <th>1</th>\n",
       "      <td>DIABETES</td>\n",
       "      <td>13854</td>\n",
       "      <td>8579</td>\n",
       "      <td>3223</td>\n",
       "      <td>0.232640</td>\n",
       "      <td>0.619244</td>\n",
       "    </tr>\n",
       "    <tr>\n",
       "      <th>6</th>\n",
       "      <td>CARDIOVASCULAR</td>\n",
       "      <td>2056</td>\n",
       "      <td>1175</td>\n",
       "      <td>487</td>\n",
       "      <td>0.236868</td>\n",
       "      <td>0.571498</td>\n",
       "    </tr>\n",
       "    <tr>\n",
       "      <th>2</th>\n",
       "      <td>EPOC</td>\n",
       "      <td>1588</td>\n",
       "      <td>1062</td>\n",
       "      <td>481</td>\n",
       "      <td>0.302897</td>\n",
       "      <td>0.668766</td>\n",
       "    </tr>\n",
       "    <tr>\n",
       "      <th>8</th>\n",
       "      <td>RENAL_CRONICA</td>\n",
       "      <td>1840</td>\n",
       "      <td>1318</td>\n",
       "      <td>595</td>\n",
       "      <td>0.323370</td>\n",
       "      <td>0.716304</td>\n",
       "    </tr>\n",
       "  </tbody>\n",
       "</table>\n",
       "</div>"
      ],
      "text/plain": [
       "      Complicación  Casos  Hospitalizados  Defunciones  Probabilidad muerte  \\\n",
       "0         EMBARAZO    486             152           13             0.026749   \n",
       "11           SANOS  16944            3058          537             0.031693   \n",
       "3             ASMA   2290             669          196             0.085590   \n",
       "10         GENERAL  78023           28248         8597             0.110185   \n",
       "9       TABAQUISMO   6470            2444          812             0.125502   \n",
       "7         OBESIDAD  16053            6784         2306             0.143649   \n",
       "4         INMUSUPR   1216             730          262             0.215461   \n",
       "5     HIPERTENSION  16444            9297         3583             0.217891   \n",
       "1         DIABETES  13854            8579         3223             0.232640   \n",
       "6   CARDIOVASCULAR   2056            1175          487             0.236868   \n",
       "2             EPOC   1588            1062          481             0.302897   \n",
       "8    RENAL_CRONICA   1840            1318          595             0.323370   \n",
       "\n",
       "    Probabilidad hospitalizacion  \n",
       "0                       0.312757  \n",
       "11                      0.180477  \n",
       "3                       0.292140  \n",
       "10                      0.362047  \n",
       "9                       0.377743  \n",
       "7                       0.422600  \n",
       "4                       0.600329  \n",
       "5                       0.565373  \n",
       "1                       0.619244  \n",
       "6                       0.571498  \n",
       "2                       0.668766  \n",
       "8                       0.716304  "
      ]
     },
     "execution_count": 12,
     "metadata": {},
     "output_type": "execute_result"
    }
   ],
   "source": [
    "# Obtenemos los diferentes datos para cada tipo de complicación de salud\n",
    "\n",
    "p_muerte_comp = [] #Aqui guardaremos los datos\n",
    "\n",
    "for i, complicacion in enumerate(complicaciones):\n",
    "    p_muerte_comp.append([])\n",
    "    p_muerte_comp[i].append(complicacion)  # Agregamos el nombre de la complicacion\n",
    "    \n",
    "    # El siguiente arreglo guarda todos aquellos casos que tengan cada complicación\n",
    "    casos = enfermos[enfermos[complicacion] == 1]\n",
    "    n_casos = len(casos)   # El tamaño del arreglo\n",
    "    p_muerte_comp[i].append(n_casos)  # Número de casos con esa complicación\n",
    "    \n",
    "    n_hospitalizado = len(casos[casos['TIPO_PACIENTE'] == 2])\n",
    "    p_muerte_comp[i].append(n_hospitalizado)  #Número de personas hospitalizadas con esa complicación\n",
    "    \n",
    "    muertos = casos[casos['FECHA_DEF'] != '9999-99-99']\n",
    "    n_muertos = len(muertos)\n",
    "    p_muerte_comp[i].append(n_muertos)  #Número de muertos con esa complicacion de salud\n",
    "    \n",
    "    probabilidad_muerte = n_muertos/n_casos   # Probabilidad de muerte por condición\n",
    "    p_muerte_comp[i].append(probabilidad_muerte)\n",
    "    \n",
    "    probabilidad_h = n_hospitalizado/n_casos\n",
    "    p_muerte_comp[i].append(probabilidad_h)   # Probabilidad condicional de hospitalización\n",
    "    \n",
    "p_muerte_comp.append(['GENERAL', enfermos_totales, hospitalizados_totales, \n",
    "                      muertos_totales, p_general_muerte, p_general_hosp])  # Añadimos el general nacional\n",
    "p_muerte_comp.append(['SANOS', n_sin_comp, hosp_sin_comp,\n",
    "                      muertos_sin_comp, p_sano_muerte, p_sano_hosp])   # Añadimos el caso sin complicaciones\n",
    "\n",
    "# Creamos nuestro dataFrame para visualizar mejor los datos\n",
    "p_muerte_comp = pd.DataFrame(p_muerte_comp, columns = ['Complicación', 'Casos',  'Hospitalizados',\n",
    "                                                       'Defunciones', 'Probabilidad muerte', \n",
    "                                                       'Probabilidad hospitalizacion']).sort_values(by=\"Probabilidad muerte\")\n",
    "p_muerte_comp"
   ]
  },
  {
   "cell_type": "markdown",
   "metadata": {},
   "source": [
    "### Graficamos probabilidad de muerte"
   ]
  },
  {
   "cell_type": "code",
   "execution_count": 13,
   "metadata": {},
   "outputs": [
    {
     "data": {
      "image/png": "[encoded data removed]",
      "text/plain": [
       "<Figure size 504x504 with 1 Axes>"
      ]
     },
     "metadata": {
      "needs_background": "light"
     },
     "output_type": "display_data"
    }
   ],
   "source": [
    "# El siguiente código grafica la probabilidad de muerte frente a las complicaciones\n",
    "\n",
    "ordenados = p_muerte_comp.sort_values(by='Probabilidad muerte') #Ordenamos de acuerdo a la probabilidad\n",
    "# Creamos nuestra lista de complicaciones\n",
    "index = ordenados['Complicación']\n",
    "# Creamos nuestros labels para las gráficas\n",
    "labels = ['Renal crónica', 'EPOC', 'Cardiovascular', 'Diabetes', \n",
    "          'Hipertensión', 'Inmunosupresión', 'Obesidad', 'Tabaquismo', \n",
    "          'General nacional', 'Asma', 'Sin complicaciones', 'Embarazo']\n",
    "# Creamos una lista con las probabilidades y números consecutivos\n",
    "y = ordenados['Probabilidad muerte']\n",
    "x = [i for i in range(len(index))]\n",
    "\n",
    "# Creamos nuestro objeto fig y aux que nos permiten realizar la gráfica gracias a matplotlib\n",
    "fig, ax = plt.subplots(figsize = (7,7))\n",
    "# Graficamos y escogemos el color\n",
    "grafica = ax.barh(x, y, color = '#a8324a')\n",
    "# Cambiamos el color de las celdas \"Sin complicaciones\" y \"General Nacional\" para resaltarlas\n",
    "grafica[1].set_color('#32a84c')\n",
    "grafica[3].set_color('#3283a8')\n",
    "# Hacemos la cuadrícula visible\n",
    "ax.grid(alpha = 0.3)\n",
    "# Añadimos título\n",
    "ax.set_title('Probabilidad de muerte por COVID-19 \\n dadas complicaciones de salud previas')\n",
    "# Asignamos los labels o nombre de cada barra\n",
    "plt.yticks([11, 10, 9, 8,7,6,5,4,3,2,1,0])\n",
    "ax.set_yticklabels(labels)\n",
    "ax.set_xlabel('Probabilidad')\n",
    "# Mostramos gráfica\n",
    "plt.show()"
   ]
  },
  {
   "cell_type": "markdown",
   "metadata": {},
   "source": [
    "### Graficamos probabiliada de hospitalización"
   ]
  },
  {
   "cell_type": "code",
   "execution_count": 14,
   "metadata": {},
   "outputs": [
    {
     "data": {
      "image/png": "[encoded data removed]",
      "text/plain": [
       "<Figure size 504x504 with 1 Axes>"
      ]
     },
     "metadata": {
      "needs_background": "light"
     },
     "output_type": "display_data"
    }
   ],
   "source": [
    "# Lo anterior es casi exactamente lo mismo que antes, pero ahora con el caso de hospitalización.\n",
    "ordenados = p_muerte_comp.sort_values(by='Probabilidad hospitalizacion') #Ordenamos de acuerdo a la probabilidad\n",
    "# Creamos nuestra lista de complicaciones\n",
    "index = ordenados['Complicación']\n",
    "# Creamos nuestros labels para las gráficas\n",
    "labels = ['Renal crónica', 'EPOC', 'Diabetes', 'Inmunosupresión', 'Cardiovascular',  \n",
    "          'Hipertensión',  'Obesidad', 'Tabaquismo', \n",
    "          'General nacional', 'Embarazo', 'Asma', 'Sin complicaciones']\n",
    "\n",
    "# Creamos una lista con las probabilidades y números consecutivos\n",
    "y = ordenados['Probabilidad hospitalizacion']\n",
    "x = [i for i in range(len(index))]\n",
    "\n",
    "# Creamos nuestro objeto fig y aux que nos permiten realizar la gráfica gracias a matplotlib\n",
    "fig, ax = plt.subplots(figsize = (7,7))\n",
    "\n",
    "# Graficamos y escogemos el color\n",
    "grafica = ax.barh(x, y, color = '#a8324a')\n",
    "\n",
    "# Cambiamos el color de las celdas \"Sin complicaciones\" y \"General Nacional\" para resaltarlas\n",
    "grafica[0].set_color('#32a84c')\n",
    "grafica[3].set_color('#3283a8')\n",
    "\n",
    "# Hacemos la cuadrícula visible\n",
    "ax.grid(alpha = 0.3)\n",
    "\n",
    "# Añadimos título\n",
    "ax.set_title('Probabilidad de hospitalización por COVID-19 \\n dadas complicaciones de salud previas')\n",
    "\n",
    "# Añadimos labels\n",
    "plt.yticks([11, 10, 9, 8,7,6,5,4,3,2,1,0])\n",
    "ax.set_yticklabels(labels)\n",
    "ax.set_xlabel('Probabilidad')\n",
    "\n",
    "# Mostramos gráfica\n",
    "plt.show()"
   ]
  },
  {
   "cell_type": "markdown",
   "metadata": {},
   "source": [
    "# Tipo de paciente por grupo de edad"
   ]
  },
  {
   "cell_type": "markdown",
   "metadata": {},
   "source": [
    "En esta sección del código separaremos cada paciente en un grupo de edad, los grupos de edad serán de 10 años"
   ]
  },
  {
   "cell_type": "code",
   "execution_count": 15,
   "metadata": {},
   "outputs": [],
   "source": [
    "data = datos.copy()  # Creamos copia de los datos\n",
    "\n",
    "bins = [x*10 for x in range(11)]  # Creamos los limites de los grupos\n",
    "\n",
    "edad = []\n",
    "\n",
    "for i in range(10):\n",
    "    # Creamos array booleano selector\n",
    "    menores = data['EDAD'] < bins[i+1]\n",
    "    mayores = data['EDAD'] >= bins[i]\n",
    "    tomar = []\n",
    "    for j in range(len(data)):\n",
    "        tomar.append(menores[j] and mayores[j])\n",
    "        \n",
    "    # Agregamos los resultados filtrados a \"edad\"\n",
    "    edad.append([])\n",
    "    edad[i].append(f'{bins[i]}-{bins[i+1]-1}')\n",
    "    edad[i].append(data[tomar])"
   ]
  },
  {
   "cell_type": "code",
   "execution_count": 16,
   "metadata": {},
   "outputs": [
    {
     "name": "stdout",
     "output_type": "stream",
     "text": [
      "Grupo de edad: 60-69\n"
     ]
    },
    {
     "data": {
      "text/html": [
       "<div>\n",
       "<style scoped>\n",
       "    .dataframe tbody tr th:only-of-type {\n",
       "        vertical-align: middle;\n",
       "    }\n",
       "\n",
       "    .dataframe tbody tr th {\n",
       "        vertical-align: top;\n",
       "    }\n",
       "\n",
       "    .dataframe thead th {\n",
       "        text-align: right;\n",
       "    }\n",
       "</style>\n",
       "<table border=\"1\" class=\"dataframe\">\n",
       "  <thead>\n",
       "    <tr style=\"text-align: right;\">\n",
       "      <th></th>\n",
       "      <th>ID_REGISTRO</th>\n",
       "      <th>SECTOR</th>\n",
       "      <th>ENTIDAD_UM</th>\n",
       "      <th>SEXO</th>\n",
       "      <th>ENTIDAD_RES</th>\n",
       "      <th>TIPO_PACIENTE</th>\n",
       "      <th>FECHA_INGRESO</th>\n",
       "      <th>FECHA_SINTOMAS</th>\n",
       "      <th>FECHA_DEF</th>\n",
       "      <th>INTUBADO</th>\n",
       "      <th>NEUMONIA</th>\n",
       "      <th>EDAD</th>\n",
       "      <th>EMBARAZO</th>\n",
       "      <th>DIABETES</th>\n",
       "      <th>EPOC</th>\n",
       "      <th>ASMA</th>\n",
       "      <th>INMUSUPR</th>\n",
       "      <th>HIPERTENSION</th>\n",
       "      <th>CARDIOVASCULAR</th>\n",
       "      <th>OBESIDAD</th>\n",
       "      <th>RENAL_CRONICA</th>\n",
       "      <th>TABAQUISMO</th>\n",
       "      <th>OTRO_CASO</th>\n",
       "      <th>RESULTADO</th>\n",
       "      <th>UCI</th>\n",
       "    </tr>\n",
       "  </thead>\n",
       "  <tbody>\n",
       "    <tr>\n",
       "      <th>5</th>\n",
       "      <td>0fcdb4</td>\n",
       "      <td>4</td>\n",
       "      <td>15</td>\n",
       "      <td>2</td>\n",
       "      <td>15</td>\n",
       "      <td>2</td>\n",
       "      <td>21/04/2020</td>\n",
       "      <td>13/04/2020</td>\n",
       "      <td>9999-99-99</td>\n",
       "      <td>2</td>\n",
       "      <td>2</td>\n",
       "      <td>60</td>\n",
       "      <td>97</td>\n",
       "      <td>2</td>\n",
       "      <td>2</td>\n",
       "      <td>2</td>\n",
       "      <td>2</td>\n",
       "      <td>2</td>\n",
       "      <td>2</td>\n",
       "      <td>2</td>\n",
       "      <td>2</td>\n",
       "      <td>2</td>\n",
       "      <td>99</td>\n",
       "      <td>1</td>\n",
       "      <td>2</td>\n",
       "    </tr>\n",
       "    <tr>\n",
       "      <th>9</th>\n",
       "      <td>167559</td>\n",
       "      <td>4</td>\n",
       "      <td>9</td>\n",
       "      <td>2</td>\n",
       "      <td>9</td>\n",
       "      <td>1</td>\n",
       "      <td>18/04/2020</td>\n",
       "      <td>17/04/2020</td>\n",
       "      <td>9999-99-99</td>\n",
       "      <td>97</td>\n",
       "      <td>1</td>\n",
       "      <td>62</td>\n",
       "      <td>97</td>\n",
       "      <td>1</td>\n",
       "      <td>2</td>\n",
       "      <td>2</td>\n",
       "      <td>2</td>\n",
       "      <td>1</td>\n",
       "      <td>2</td>\n",
       "      <td>2</td>\n",
       "      <td>2</td>\n",
       "      <td>1</td>\n",
       "      <td>99</td>\n",
       "      <td>1</td>\n",
       "      <td>97</td>\n",
       "    </tr>\n",
       "    <tr>\n",
       "      <th>16</th>\n",
       "      <td>71944</td>\n",
       "      <td>4</td>\n",
       "      <td>14</td>\n",
       "      <td>2</td>\n",
       "      <td>14</td>\n",
       "      <td>2</td>\n",
       "      <td>04/05/2020</td>\n",
       "      <td>04/05/2020</td>\n",
       "      <td>9999-99-99</td>\n",
       "      <td>2</td>\n",
       "      <td>2</td>\n",
       "      <td>62</td>\n",
       "      <td>97</td>\n",
       "      <td>2</td>\n",
       "      <td>2</td>\n",
       "      <td>2</td>\n",
       "      <td>2</td>\n",
       "      <td>1</td>\n",
       "      <td>2</td>\n",
       "      <td>2</td>\n",
       "      <td>2</td>\n",
       "      <td>2</td>\n",
       "      <td>99</td>\n",
       "      <td>1</td>\n",
       "      <td>2</td>\n",
       "    </tr>\n",
       "    <tr>\n",
       "      <th>19</th>\n",
       "      <td>02a928</td>\n",
       "      <td>4</td>\n",
       "      <td>7</td>\n",
       "      <td>2</td>\n",
       "      <td>7</td>\n",
       "      <td>2</td>\n",
       "      <td>07/04/2020</td>\n",
       "      <td>07/04/2020</td>\n",
       "      <td>9999-99-99</td>\n",
       "      <td>2</td>\n",
       "      <td>2</td>\n",
       "      <td>61</td>\n",
       "      <td>97</td>\n",
       "      <td>2</td>\n",
       "      <td>2</td>\n",
       "      <td>2</td>\n",
       "      <td>2</td>\n",
       "      <td>2</td>\n",
       "      <td>2</td>\n",
       "      <td>1</td>\n",
       "      <td>2</td>\n",
       "      <td>2</td>\n",
       "      <td>99</td>\n",
       "      <td>1</td>\n",
       "      <td>2</td>\n",
       "    </tr>\n",
       "    <tr>\n",
       "      <th>20</th>\n",
       "      <td>15553</td>\n",
       "      <td>4</td>\n",
       "      <td>2</td>\n",
       "      <td>2</td>\n",
       "      <td>2</td>\n",
       "      <td>2</td>\n",
       "      <td>09/04/2020</td>\n",
       "      <td>04/04/2020</td>\n",
       "      <td>9999-99-99</td>\n",
       "      <td>2</td>\n",
       "      <td>1</td>\n",
       "      <td>64</td>\n",
       "      <td>97</td>\n",
       "      <td>2</td>\n",
       "      <td>2</td>\n",
       "      <td>2</td>\n",
       "      <td>2</td>\n",
       "      <td>1</td>\n",
       "      <td>2</td>\n",
       "      <td>2</td>\n",
       "      <td>2</td>\n",
       "      <td>2</td>\n",
       "      <td>99</td>\n",
       "      <td>1</td>\n",
       "      <td>2</td>\n",
       "    </tr>\n",
       "  </tbody>\n",
       "</table>\n",
       "</div>"
      ],
      "text/plain": [
       "   ID_REGISTRO  SECTOR  ENTIDAD_UM  SEXO  ENTIDAD_RES  TIPO_PACIENTE  \\\n",
       "5       0fcdb4       4          15     2           15              2   \n",
       "9       167559       4           9     2            9              1   \n",
       "16       71944       4          14     2           14              2   \n",
       "19      02a928       4           7     2            7              2   \n",
       "20       15553       4           2     2            2              2   \n",
       "\n",
       "   FECHA_INGRESO FECHA_SINTOMAS   FECHA_DEF  INTUBADO  NEUMONIA  EDAD  \\\n",
       "5     21/04/2020     13/04/2020  9999-99-99         2         2    60   \n",
       "9     18/04/2020     17/04/2020  9999-99-99        97         1    62   \n",
       "16    04/05/2020     04/05/2020  9999-99-99         2         2    62   \n",
       "19    07/04/2020     07/04/2020  9999-99-99         2         2    61   \n",
       "20    09/04/2020     04/04/2020  9999-99-99         2         1    64   \n",
       "\n",
       "    EMBARAZO  DIABETES  EPOC  ASMA  INMUSUPR  HIPERTENSION  CARDIOVASCULAR  \\\n",
       "5         97         2     2     2         2             2               2   \n",
       "9         97         1     2     2         2             1               2   \n",
       "16        97         2     2     2         2             1               2   \n",
       "19        97         2     2     2         2             2               2   \n",
       "20        97         2     2     2         2             1               2   \n",
       "\n",
       "    OBESIDAD  RENAL_CRONICA  TABAQUISMO  OTRO_CASO  RESULTADO  UCI  \n",
       "5          2              2           2         99          1    2  \n",
       "9          2              2           1         99          1   97  \n",
       "16         2              2           2         99          1    2  \n",
       "19         1              2           2         99          1    2  \n",
       "20         2              2           2         99          1    2  "
      ]
     },
     "execution_count": 16,
     "metadata": {},
     "output_type": "execute_result"
    }
   ],
   "source": [
    "# Esto es un ejemplo de como se ve edad:\n",
    "print('Grupo de edad:', edad[6][0])\n",
    "edad[6][1].head()"
   ]
  },
  {
   "cell_type": "markdown",
   "metadata": {},
   "source": [
    "Separamos cada grupo de edad por tipo de paciente: ambulatorio u hospitalizado:"
   ]
  },
  {
   "cell_type": "code",
   "execution_count": 17,
   "metadata": {},
   "outputs": [
    {
     "data": {
      "text/html": [
       "<div>\n",
       "<style scoped>\n",
       "    .dataframe tbody tr th:only-of-type {\n",
       "        vertical-align: middle;\n",
       "    }\n",
       "\n",
       "    .dataframe tbody tr th {\n",
       "        vertical-align: top;\n",
       "    }\n",
       "\n",
       "    .dataframe thead th {\n",
       "        text-align: right;\n",
       "    }\n",
       "</style>\n",
       "<table border=\"1\" class=\"dataframe\">\n",
       "  <thead>\n",
       "    <tr style=\"text-align: right;\">\n",
       "      <th></th>\n",
       "      <th>Grupo de edad</th>\n",
       "      <th>Casos totales</th>\n",
       "      <th>Ambulatorios</th>\n",
       "      <th>Hospitalizados</th>\n",
       "      <th>Fallecidos</th>\n",
       "      <th>Probabilidad de muerte</th>\n",
       "      <th>Probabilidad de hospitalización</th>\n",
       "    </tr>\n",
       "  </thead>\n",
       "  <tbody>\n",
       "    <tr>\n",
       "      <th>0</th>\n",
       "      <td>0-9</td>\n",
       "      <td>6804</td>\n",
       "      <td>4153</td>\n",
       "      <td>2651</td>\n",
       "      <td>137</td>\n",
       "      <td>0.020135</td>\n",
       "      <td>0.389624</td>\n",
       "    </tr>\n",
       "    <tr>\n",
       "      <th>1</th>\n",
       "      <td>10-19</td>\n",
       "      <td>7447</td>\n",
       "      <td>6342</td>\n",
       "      <td>1105</td>\n",
       "      <td>65</td>\n",
       "      <td>0.008728</td>\n",
       "      <td>0.148382</td>\n",
       "    </tr>\n",
       "    <tr>\n",
       "      <th>2</th>\n",
       "      <td>20-29</td>\n",
       "      <td>38783</td>\n",
       "      <td>35294</td>\n",
       "      <td>3489</td>\n",
       "      <td>241</td>\n",
       "      <td>0.006214</td>\n",
       "      <td>0.089962</td>\n",
       "    </tr>\n",
       "    <tr>\n",
       "      <th>3</th>\n",
       "      <td>30-39</td>\n",
       "      <td>59608</td>\n",
       "      <td>52837</td>\n",
       "      <td>6771</td>\n",
       "      <td>720</td>\n",
       "      <td>0.012079</td>\n",
       "      <td>0.113592</td>\n",
       "    </tr>\n",
       "    <tr>\n",
       "      <th>4</th>\n",
       "      <td>40-49</td>\n",
       "      <td>53918</td>\n",
       "      <td>43360</td>\n",
       "      <td>10558</td>\n",
       "      <td>1804</td>\n",
       "      <td>0.033458</td>\n",
       "      <td>0.195816</td>\n",
       "    </tr>\n",
       "    <tr>\n",
       "      <th>5</th>\n",
       "      <td>50-59</td>\n",
       "      <td>39670</td>\n",
       "      <td>26883</td>\n",
       "      <td>12787</td>\n",
       "      <td>3009</td>\n",
       "      <td>0.075851</td>\n",
       "      <td>0.322334</td>\n",
       "    </tr>\n",
       "    <tr>\n",
       "      <th>6</th>\n",
       "      <td>60-69</td>\n",
       "      <td>21688</td>\n",
       "      <td>10869</td>\n",
       "      <td>10819</td>\n",
       "      <td>3096</td>\n",
       "      <td>0.142752</td>\n",
       "      <td>0.498847</td>\n",
       "    </tr>\n",
       "    <tr>\n",
       "      <th>7</th>\n",
       "      <td>70-79</td>\n",
       "      <td>10965</td>\n",
       "      <td>4101</td>\n",
       "      <td>6864</td>\n",
       "      <td>2142</td>\n",
       "      <td>0.195349</td>\n",
       "      <td>0.625992</td>\n",
       "    </tr>\n",
       "    <tr>\n",
       "      <th>8</th>\n",
       "      <td>80-89</td>\n",
       "      <td>4886</td>\n",
       "      <td>1674</td>\n",
       "      <td>3212</td>\n",
       "      <td>1068</td>\n",
       "      <td>0.218584</td>\n",
       "      <td>0.657388</td>\n",
       "    </tr>\n",
       "    <tr>\n",
       "      <th>9</th>\n",
       "      <td>90-99</td>\n",
       "      <td>1026</td>\n",
       "      <td>409</td>\n",
       "      <td>617</td>\n",
       "      <td>189</td>\n",
       "      <td>0.184211</td>\n",
       "      <td>0.601365</td>\n",
       "    </tr>\n",
       "  </tbody>\n",
       "</table>\n",
       "</div>"
      ],
      "text/plain": [
       "  Grupo de edad  Casos totales  Ambulatorios  Hospitalizados  Fallecidos  \\\n",
       "0           0-9           6804          4153            2651         137   \n",
       "1         10-19           7447          6342            1105          65   \n",
       "2         20-29          38783         35294            3489         241   \n",
       "3         30-39          59608         52837            6771         720   \n",
       "4         40-49          53918         43360           10558        1804   \n",
       "5         50-59          39670         26883           12787        3009   \n",
       "6         60-69          21688         10869           10819        3096   \n",
       "7         70-79          10965          4101            6864        2142   \n",
       "8         80-89           4886          1674            3212        1068   \n",
       "9         90-99           1026           409             617         189   \n",
       "\n",
       "   Probabilidad de muerte  Probabilidad de hospitalización  \n",
       "0                0.020135                         0.389624  \n",
       "1                0.008728                         0.148382  \n",
       "2                0.006214                         0.089962  \n",
       "3                0.012079                         0.113592  \n",
       "4                0.033458                         0.195816  \n",
       "5                0.075851                         0.322334  \n",
       "6                0.142752                         0.498847  \n",
       "7                0.195349                         0.625992  \n",
       "8                0.218584                         0.657388  \n",
       "9                0.184211                         0.601365  "
      ]
     },
     "execution_count": 17,
     "metadata": {},
     "output_type": "execute_result"
    }
   ],
   "source": [
    "casos_edad = [] # Arreglo vacío que usaremos después\n",
    "\n",
    "for i in range(10):\n",
    "    # Obtenemos el tamaño de cada sección de edad\n",
    "    totales = len(edad[i][1])\n",
    "    # Obtenemos el número de pacientes que están en estado ambulatorio\n",
    "    ambulatorio = len(edad[i][1][edad[i][1]['TIPO_PACIENTE'] == 1])\n",
    "    # Obtenemos el número de pacientes que están en estado hospitalizado\n",
    "    hospitalizado = len(edad[i][1][edad[i][1]['TIPO_PACIENTE'] == 2])\n",
    "    \n",
    "    muertos = len(edad[i][1][edad[i][1]['FECHA_DEF']  != '9999-99-99'])\n",
    "    p_muerte = muertos/totales\n",
    "    p_hosp = hospitalizado/totales\n",
    "    \n",
    "    casos_edad.append([edad[i][0], totales, ambulatorio, hospitalizado, muertos, p_muerte, p_hosp])\n",
    "    \n",
    "grupo_edad = pd.DataFrame(casos_edad, columns = ['Grupo de edad', 'Casos totales', 'Ambulatorios',\n",
    "                                                 'Hospitalizados', 'Fallecidos', 'Probabilidad de muerte',\n",
    "                                                'Probabilidad de hospitalización'])\n",
    "\n",
    "grupo_edad"
   ]
  },
  {
   "cell_type": "markdown",
   "metadata": {},
   "source": [
    "### Graficamos tipo de paciente por edad (histograma):"
   ]
  },
  {
   "cell_type": "code",
   "execution_count": 18,
   "metadata": {},
   "outputs": [
    {
     "data": {
      "image/png": "[encoded data removed]",
      "text/plain": [
       "<Figure size 432x288 with 1 Axes>"
      ]
     },
     "metadata": {
      "needs_background": "light"
     },
     "output_type": "display_data"
    }
   ],
   "source": [
    "# Creamos los labels o nombres de cada sección\n",
    "labels = [f'{x*10}-{(x+1)*10-1}' for x in range(10)]\n",
    "# Creamos nuestros histogramas, de hospitalizados y Ambulatorios\n",
    "plt.bar(labels, list(grupo_edad['Hospitalizados']), label = 'Hospitalizados', color = '#9c273f')\n",
    "plt.bar(labels, list(grupo_edad['Ambulatorios']), label = \n",
    "        'Ambulatorios', bottom = list(grupo_edad['Hospitalizados']), color = '#279c54')\n",
    "# Le agregamos los nombres y el título además de que le damos formato\n",
    "plt.legend()\n",
    "plt.xlabel('Grupo de edad')\n",
    "plt.ylabel('Casos')\n",
    "plt.xticks(rotation = 45)\n",
    "plt.title('Casos de COVID-19 por grupo de edad')\n",
    "plt.grid(alpha = 0.3)\n",
    "plt.show()"
   ]
  },
  {
   "cell_type": "markdown",
   "metadata": {},
   "source": [
    "### Graficamos las muertes registradas por edad "
   ]
  },
  {
   "cell_type": "code",
   "execution_count": 19,
   "metadata": {},
   "outputs": [
    {
     "data": {
      "image/png": "[encoded data removed]",
      "text/plain": [
       "<Figure size 432x288 with 1 Axes>"
      ]
     },
     "metadata": {
      "needs_background": "light"
     },
     "output_type": "display_data"
    }
   ],
   "source": [
    "# Creamos nuestros intervalos como antes\n",
    "labels = [f'{x*10}-{(x+1)*10-1}' for x in range(10)]\n",
    "# Obtenemos nuestros datos\n",
    "y = grupo_edad['Fallecidos']\n",
    "# Graficamos\n",
    "plt.bar(labels, y, color = '#272121')\n",
    "# Le damos formato como anteriormente se menciona\n",
    "plt.xlabel('Grupo de edad')\n",
    "plt.ylabel('Muertes')\n",
    "plt.xticks(rotation = 45)\n",
    "plt.title('Muertes por grupo de edad')\n",
    "plt.grid(alpha = 0.3)\n",
    "plt.show()"
   ]
  },
  {
   "cell_type": "markdown",
   "metadata": {},
   "source": [
    "### Graficamos la probabilidad de hospitalización o muerte por edad"
   ]
  },
  {
   "cell_type": "code",
   "execution_count": 20,
   "metadata": {},
   "outputs": [
    {
     "data": {
      "image/png": "[encoded data removed]",
      "text/plain": [
       "<Figure size 432x288 with 1 Axes>"
      ]
     },
     "metadata": {
      "needs_background": "light"
     },
     "output_type": "display_data"
    }
   ],
   "source": [
    "# Creamos nuestros intervalos como antes\n",
    "labels = [f'{x*10}-{(x+1)*10-1}' for x in range(10)]\n",
    "# Obtenemos nuestros datos\n",
    "y = grupo_edad['Probabilidad de muerte']\n",
    "# Graficamos\n",
    "plt.bar(labels, y, color = '#3b0f1a')\n",
    "# Le damos formato como anteriormente se menciona\n",
    "plt.xlabel('Grupo de edad')\n",
    "plt.ylabel('Probabilidad')\n",
    "plt.xticks(rotation = 45)\n",
    "plt.title('Probabilidad de muerte \\n por COVID-19 por grupo de edad')\n",
    "plt.grid(alpha = 0.3)\n",
    "plt.show()"
   ]
  },
  {
   "cell_type": "code",
   "execution_count": 21,
   "metadata": {},
   "outputs": [
    {
     "data": {
      "image/png": "[encoded data removed]",
      "text/plain": [
       "<Figure size 432x288 with 1 Axes>"
      ]
     },
     "metadata": {
      "needs_background": "light"
     },
     "output_type": "display_data"
    }
   ],
   "source": [
    "# Este código es lo mismo que el anterior pero aquí graficamos la probabilidad de hospitalización\n",
    "labels = [f'{x*10}-{(x+1)*10-1}' for x in range(10)]\n",
    "\n",
    "y = grupo_edad['Probabilidad de hospitalización']\n",
    "\n",
    "plt.bar(labels, y, color = '#9c273f')\n",
    "\n",
    "plt.xlabel('Grupo de edad')\n",
    "plt.ylabel('Probabilidad')\n",
    "plt.xticks(rotation = 45)\n",
    "plt.title('Probabilidad de hospitalización \\n por COVID-19 por grupo de edad')\n",
    "plt.grid(alpha = 0.3, )\n",
    "plt.show()"
   ]
  },
  {
   "cell_type": "markdown",
   "metadata": {},
   "source": [
    "## Analisis de la evolución de la enfermedad\n",
    "\n",
    "### General"
   ]
  },
  {
   "cell_type": "code",
   "execution_count": 22,
   "metadata": {},
   "outputs": [
    {
     "name": "stdout",
     "output_type": "stream",
     "text": [
      "12477\n"
     ]
    }
   ],
   "source": [
    "# Veamos la cantidad total de muertes\n",
    "muertos = datos[datos['FECHA_DEF'] != '9999-99-99']\n",
    "print(len(muertos)) # Imprimimos"
   ]
  },
  {
   "cell_type": "code",
   "execution_count": 23,
   "metadata": {},
   "outputs": [],
   "source": [
    "# Obtenemos la fecha cuando empiezan los síntomas y las fechas de muerte\n",
    "sintomas = list(muertos['FECHA_SINTOMAS'])\n",
    "muerte = list(muertos['FECHA_DEF'])\n",
    "\n",
    "# Lo convertimos en un objeto reconocible por Python\n",
    "dias = []\n",
    "for i in range(len(sintomas)):\n",
    "    aux = sintomas[i].split('/')\n",
    "    a = date(int(aux[2]), int(aux[1]), int(aux[0]))\n",
    "    aux = muerte[i].split('/')\n",
    "    b = date(int(aux[2]), int(aux[1]), int(aux[0]))\n",
    "    delta = b-a\n",
    "    if(40>=delta.days>=0):\n",
    "        dias.append(int(delta.days))\n",
    "# Obtenemos una lista de los días que tardó cada persona en fallecer"
   ]
  },
  {
   "cell_type": "code",
   "execution_count": 24,
   "metadata": {},
   "outputs": [
    {
     "name": "stdout",
     "output_type": "stream",
     "text": [
      "Tiempo promedio de fallecimiento: 10.028\n",
      "Desviación estándar del tiempo: 6.482110255862074\n"
     ]
    }
   ],
   "source": [
    "# Obtendremos su promedio y su desviación estándar (De los días en que las personas que fallecieron)\n",
    "mean = np.average(dias)\n",
    "std = np.std(dias)\n",
    "\n",
    "print(f'Tiempo promedio de fallecimiento: {mean:.3f}')\n",
    "print(f\"Desviación estándar del tiempo: {std}\")"
   ]
  },
  {
   "cell_type": "code",
   "execution_count": 25,
   "metadata": {},
   "outputs": [
    {
     "data": {
      "image/png": "[encoded data removed]",
      "text/plain": [
       "<Figure size 432x288 with 1 Axes>"
      ]
     },
     "metadata": {
      "needs_background": "light"
     },
     "output_type": "display_data"
    }
   ],
   "source": [
    "# Grafiquemos la lista de días antes mencionados\n",
    "a = plt.hist(dias, bins = [x for x in range(40)], color = '#9c273f')\n",
    "plt.xlabel('Dias')\n",
    "plt.ylabel('Total de casos')\n",
    "plt.grid(alpha = 0.3)\n",
    "plt.title('Dias desde primeros sintomas \\n hasta defunción')\n",
    "plt.show()"
   ]
  },
  {
   "cell_type": "markdown",
   "metadata": {},
   "source": [
    "### Ajuste de distribución de probabilidad"
   ]
  },
  {
   "cell_type": "code",
   "execution_count": 26,
   "metadata": {},
   "outputs": [],
   "source": [
    "# Hagamos un ajuste de distribución que nos proporcione información sobre los datos\n",
    "# Primero, sacamos todas las frecuencias de nuestra gráfica anterior\n",
    "frecuencias = a[0]\n",
    "totales = sum(frecuencias) # Sumamos las frecuencuas para tener un total\n",
    "# Obtenemos la probabilidad que tiene cada día \n",
    "probabilidad = frecuencias/totales"
   ]
  },
  {
   "cell_type": "code",
   "execution_count": 27,
   "metadata": {},
   "outputs": [
    {
     "data": {
      "image/png": "[encoded data removed]",
      "text/plain": [
       "<Figure size 432x288 with 1 Axes>"
      ]
     },
     "metadata": {
      "needs_background": "light"
     },
     "output_type": "display_data"
    }
   ],
   "source": [
    "# Graficamos estas probabilidades\n",
    "x = [x for x in range(len(probabilidad))]\n",
    "plt.plot(x, probabilidad, marker = '.', label = 'Datos')\n",
    "plt.legend()\n",
    "plt.ylabel('Probabilidad')\n",
    "plt.xlabel('Días')\n",
    "plt.title('Ajuste de distribución de probabilidad \\n de Poisson a los datos')\n",
    "plt.show()"
   ]
  },
  {
   "cell_type": "markdown",
   "metadata": {},
   "source": [
    "**Tomaremos como variable aleatoria los días que pasan desde el inicio de la fecha de síntomas hasta la muerte de una persona coon Coronavirus registrada en México, lo que nos da lo siguiente y trataremos de hacer ajustes con distintas distribuciones de probabilidad**"
   ]
  },
  {
   "cell_type": "markdown",
   "metadata": {},
   "source": [
    "# Ajuste normal:"
   ]
  },
  {
   "cell_type": "code",
   "execution_count": 32,
   "metadata": {},
   "outputs": [],
   "source": [
    "# Creamos nuestro modelo que será una función normal\n",
    "def funcionNormal(mean, std, x):\n",
    "    \"\"\"\n",
    "    Descripción: Regresa los valores que tomaría una distribución normal.\n",
    "    IN ={\n",
    "        mean: La media de los datos a que deseamos\n",
    "        std: La desviación estándar de los datos\n",
    "        x1: El dato x que estamos graficando en el momento\n",
    "    }\n",
    "    OUT: Los valores para una distribución normal\n",
    "    \"\"\"\n",
    "    # Fórmula de nuestra función normal\n",
    "    return 1/(std * np.sqrt(2 * np.pi)) * np.exp( - (x - mean)**2 / (2 * std**2) )"
   ]
  },
  {
   "cell_type": "code",
   "execution_count": 33,
   "metadata": {},
   "outputs": [
    {
     "data": {
      "image/png": "[encoded data removed]",
      "text/plain": [
       "<Figure size 432x288 with 1 Axes>"
      ]
     },
     "metadata": {
      "needs_background": "light"
     },
     "output_type": "display_data"
    }
   ],
   "source": [
    "# Grafiquemos la lista de días antes mencionados\n",
    "# Establecemos nuestras x\n",
    "x = [x for x in range(len(probabilidad))]\n",
    "# Graficamos nuestros datos anteriores\n",
    "plt.plot(x, probabilidad, label = 'Datos')\n",
    "# Colocamos nuestro modelo para hacer la comparación\n",
    "plt.plot(x, funcionNormal(mean=mean, std=std, x=x), linewidth=2, color='y', label=\"Modelo Normal\")\n",
    "# Le damos formato a la gráfica\n",
    "plt.xlabel('Dias')\n",
    "plt.ylabel('Datos normalizados')\n",
    "plt.grid(alpha = 0.3)\n",
    "plt.title('Ajuste de distribución normal')\n",
    "plt.show()"
   ]
  },
  {
   "cell_type": "markdown",
   "metadata": {},
   "source": [
    "**Note que el fenómeno no parece seguir el comportamiento normal, probaremos con otra distribución, pero primero, una optimización de los parámetros de la distribución con scipy (Librería de Python)**"
   ]
  },
  {
   "cell_type": "markdown",
   "metadata": {},
   "source": [
    "## Haremos una optimización con scipy"
   ]
  },
  {
   "cell_type": "code",
   "execution_count": 34,
   "metadata": {},
   "outputs": [
    {
     "name": "stdout",
     "output_type": "stream",
     "text": [
      "10.027876248791491\n",
      "6.482110255862074\n"
     ]
    }
   ],
   "source": [
    "newMean, newStd = ss.norm.fit(dias)\n",
    "print(newMean)\n",
    "print(newStd)"
   ]
  },
  {
   "cell_type": "code",
   "execution_count": 36,
   "metadata": {},
   "outputs": [
    {
     "data": {
      "image/png": "[encoded data removed]",
      "text/plain": [
       "<Figure size 432x288 with 1 Axes>"
      ]
     },
     "metadata": {
      "needs_background": "light"
     },
     "output_type": "display_data"
    }
   ],
   "source": [
    "# Graficamos nuestros datos anteriores\n",
    "plt.plot(x, probabilidad, label = 'Datos')\n",
    "# Colocamos nuestro modelo para hacer la comparación\n",
    "plt.plot(x, funcionNormal(mean=newMean, std=newStd, x=x), linewidth=2, color='y', label=\"Modelo Normal\")\n",
    "# Le damos formato a la gráfica\n",
    "plt.xlabel('Dias')\n",
    "plt.legend()\n",
    "plt.ylabel('Datos normalizados')\n",
    "plt.grid(alpha = 0.3)\n",
    "plt.title('Ajuste de distribución normal\\nOptimizada con scipy')\n",
    "plt.show()"
   ]
  },
  {
   "cell_type": "markdown",
   "metadata": {},
   "source": [
    "**Note que no hay ningún cambio considerable**"
   ]
  },
  {
   "cell_type": "markdown",
   "metadata": {},
   "source": [
    "Verifiquemos qué tan buena es esta distribución para modelar nuestros datos, usamos la función kstest de scipy, si \"pvalor\" sale muy cercano al 0 significa que es buena distribución"
   ]
  },
  {
   "cell_type": "code",
   "execution_count": 37,
   "metadata": {},
   "outputs": [
    {
     "name": "stdout",
     "output_type": "stream",
     "text": [
      "nuestro pValor es de: 1.4715203563323593e-133\n"
     ]
    }
   ],
   "source": [
    "d, pvalor = ss.kstest(dias,\"norm\",args=(newMean, newStd))\n",
    "print(f\"nuestro pValor es de: {pvalor}\")"
   ]
  },
  {
   "cell_type": "markdown",
   "metadata": {},
   "source": [
    "*El pvalor se acerca demasiado a 0, no es una buena aproximación intentemos con otra cosa*"
   ]
  },
  {
   "cell_type": "markdown",
   "metadata": {},
   "source": [
    "# Distribución Lognormal"
   ]
  },
  {
   "cell_type": "code",
   "execution_count": 38,
   "metadata": {},
   "outputs": [
    {
     "name": "stdout",
     "output_type": "stream",
     "text": [
      "scatter for data is 0.43685190551346076\n",
      "mean of data is 13.229403213135477\n"
     ]
    }
   ],
   "source": [
    "# Primero, ajustamos los parámetros a nuestros datos\n",
    "scatter,loc,mean = ss.lognorm.fit(dias)\n",
    "# Creamos nuestras x en donde se graficarán\n",
    "x = np.linspace(0,40,len(probabilidad))\n",
    "# Creamos nuestra modelo con nuestros parámetros ajustados\n",
    "pdf_fitted = ss.lognorm.pdf(x,scatter,loc,mean) #Gives the PDF\n",
    "# Imprimimos nuestros parámetros\n",
    "print(\"scatter for data is %s\" %scatter)\n",
    "print(\"mean of data is %s\" %mean)  "
   ]
  },
  {
   "cell_type": "code",
   "execution_count": 39,
   "metadata": {},
   "outputs": [
    {
     "data": {
      "image/png": "[encoded data removed]",
      "text/plain": [
       "<Figure size 432x288 with 1 Axes>"
      ]
     },
     "metadata": {
      "needs_background": "light"
     },
     "output_type": "display_data"
    }
   ],
   "source": [
    "# Creamos nuestra gráfica de los datos\n",
    "plt.plot(x, probabilidad, label = 'Datos')\n",
    "# Creamos nuestra función de densidad de probabilidad\n",
    "pdf = ss.lognorm.pdf(x, scatter, scale=mean)\n",
    "# Imprimimos nuestra función\n",
    "plt.plot(x-3.5, pdf, 'k', c=\"y\", label=\"Modelo Log-Normal\")\n",
    "# Le damos formato\n",
    "plt.xlabel('Dias')\n",
    "plt.ylabel('Probabilidad de morir')\n",
    "plt.grid(alpha = 0.3)\n",
    "plt.title('Ajuste de distribución Log-Normal')\n",
    "plt.legend()\n",
    "plt.show()"
   ]
  }
 ],
 "metadata": {
  "kernelspec": {
   "display_name": "Python 3",
   "language": "python",
   "name": "python3"
  },
  "language_info": {
   "codemirror_mode": {
    "name": "ipython",
    "version": 3
   },
   "file_extension": ".py",
   "mimetype": "text/x-python",
   "name": "python",
   "nbconvert_exporter": "python",
   "pygments_lexer": "ipython3",
   "version": "3.7.4"
  }
 },
 "nbformat": 4,
 "nbformat_minor": 4
}
