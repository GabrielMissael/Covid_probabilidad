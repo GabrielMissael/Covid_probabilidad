{
 "cells": [
  {
   "cell_type": "markdown",
   "metadata": {},
   "source": [
    "# Análisis de datos sobre el COVID-19 en México"
   ]
  },
  {
   "cell_type": "markdown",
   "metadata": {},
   "source": [
    "Datos recolectados de: https://datos.gob.mx/busca/dataset/informacion-referente-a-casos-covid-19-en-mexico8 (Consultado el 27/05/2020)"
   ]
  },
  {
   "cell_type": "markdown",
   "metadata": {},
   "source": [
    "## Requisitos:\n",
    "- Python versión >= 3.0\n",
    "- numpy\n",
    "- pandas\n",
    "- matplotlib"
   ]
  },
  {
   "cell_type": "markdown",
   "metadata": {},
   "source": [
    "**NOTA:** El código se explica en forma de comentarios arriba del código correspondiente, ejemplo:\n",
    "```python\n",
    "# El siguiente código suma 3+7 y lo guarda en una variable 'a' y lo imprimimos\n",
    "a = 3 + 7\n",
    "print(a)\n",
    "```\n",
    "__Aunque si los comentarios son muy largos, se podrán poner en una celda aparte en formato texto, por ejemplo:__"
   ]
  },
  {
   "cell_type": "markdown",
   "metadata": {},
   "source": [
    "El siguiente es un ejemplo de la alternativa para explicar el código, la siguiente celda suma 3 + 7"
   ]
  },
  {
   "cell_type": "code",
   "execution_count": 1,
   "metadata": {},
   "outputs": [],
   "source": [
    "a = 3+7\n",
    "print(a)"
   ]
  },
  {
   "cell_type": "markdown",
   "metadata": {},
   "source": [
    "# Bien, empezamos a analizar nuestros datos"
   ]
  },
  {
   "cell_type": "code",
   "execution_count": 30,
   "metadata": {},
   "outputs": [],
   "source": [
    "# Primero hay que importar todos nuestros requisitos\n",
    "import numpy as np\n",
    "import pandas as pd\n",
    "import matplotlib.pyplot as plt\n",
    "import math as mt\n",
<<<<<<< HEAD
    "import statistics as stats\n",
    "from datetime import date"
=======
    "from datetime import date\n",
    "import scipy.stats as ss\n",
    "from scipy import integrate"
>>>>>>> 528f88dc2033207b10ed246d06245d578999dd68
   ]
  },
  {
   "cell_type": "code",
   "execution_count": 2,
   "metadata": {},
   "outputs": [],
   "source": [
    "# Ahora, creamos nuestra variable \"datos\" que es donde se almacenarán nuestros datos en forma de \n",
    "# DataFrame de pandas\n",
    "datos = pd.read_csv('datos_abiertos_covid19/200527COVID19MEXICO.csv')"
   ]
  },
  {
   "cell_type": "code",
   "execution_count": 3,
   "metadata": {},
   "outputs": [],
   "source": [
    "# El siguiente código es para tener una visión completa de los datos\n",
    "pd.set_option('display.max_columns', None)  # or 1000\n",
    "pd.set_option('display.max_rows', None)  # or 1000"
   ]
  },
  {
   "cell_type": "code",
   "execution_count": 4,
   "metadata": {},
   "outputs": [
    {
     "data": {
      "text/html": [
       "<div>\n",
       "<style scoped>\n",
       "    .dataframe tbody tr th:only-of-type {\n",
       "        vertical-align: middle;\n",
       "    }\n",
       "\n",
       "    .dataframe tbody tr th {\n",
       "        vertical-align: top;\n",
       "    }\n",
       "\n",
       "    .dataframe thead th {\n",
       "        text-align: right;\n",
       "    }\n",
       "</style>\n",
       "<table border=\"1\" class=\"dataframe\">\n",
       "  <thead>\n",
       "    <tr style=\"text-align: right;\">\n",
       "      <th></th>\n",
       "      <th>ID_REGISTRO</th>\n",
       "      <th>SECTOR</th>\n",
       "      <th>ENTIDAD_UM</th>\n",
       "      <th>SEXO</th>\n",
       "      <th>ENTIDAD_RES</th>\n",
       "      <th>TIPO_PACIENTE</th>\n",
       "      <th>FECHA_INGRESO</th>\n",
       "      <th>FECHA_SINTOMAS</th>\n",
       "      <th>FECHA_DEF</th>\n",
       "      <th>INTUBADO</th>\n",
       "      <th>NEUMONIA</th>\n",
       "      <th>EDAD</th>\n",
       "      <th>EMBARAZO</th>\n",
       "      <th>DIABETES</th>\n",
       "      <th>EPOC</th>\n",
       "      <th>ASMA</th>\n",
       "      <th>INMUSUPR</th>\n",
       "      <th>HIPERTENSION</th>\n",
       "      <th>CARDIOVASCULAR</th>\n",
       "      <th>OBESIDAD</th>\n",
       "      <th>RENAL_CRONICA</th>\n",
       "      <th>TABAQUISMO</th>\n",
       "      <th>OTRO_CASO</th>\n",
       "      <th>RESULTADO</th>\n",
       "      <th>UCI</th>\n",
       "    </tr>\n",
       "  </thead>\n",
       "  <tbody>\n",
       "    <tr>\n",
       "      <td>0</td>\n",
       "      <td>1ba22b</td>\n",
       "      <td>3</td>\n",
       "      <td>25</td>\n",
       "      <td>2</td>\n",
       "      <td>25</td>\n",
       "      <td>2</td>\n",
       "      <td>23/04/2020</td>\n",
       "      <td>16/04/2020</td>\n",
       "      <td>27/04/2020</td>\n",
       "      <td>1</td>\n",
       "      <td>1</td>\n",
       "      <td>55</td>\n",
       "      <td>97</td>\n",
       "      <td>1</td>\n",
       "      <td>2</td>\n",
       "      <td>2</td>\n",
       "      <td>2</td>\n",
       "      <td>1</td>\n",
       "      <td>1</td>\n",
       "      <td>1</td>\n",
       "      <td>2</td>\n",
       "      <td>2</td>\n",
       "      <td>99</td>\n",
       "      <td>1</td>\n",
       "      <td>2</td>\n",
       "    </tr>\n",
       "    <tr>\n",
       "      <td>1</td>\n",
       "      <td>00b59f</td>\n",
       "      <td>3</td>\n",
       "      <td>27</td>\n",
       "      <td>2</td>\n",
       "      <td>27</td>\n",
       "      <td>2</td>\n",
       "      <td>24/04/2020</td>\n",
       "      <td>20/04/2020</td>\n",
       "      <td>9999-99-99</td>\n",
       "      <td>2</td>\n",
       "      <td>1</td>\n",
       "      <td>103</td>\n",
       "      <td>97</td>\n",
       "      <td>2</td>\n",
       "      <td>2</td>\n",
       "      <td>2</td>\n",
       "      <td>2</td>\n",
       "      <td>2</td>\n",
       "      <td>2</td>\n",
       "      <td>2</td>\n",
       "      <td>2</td>\n",
       "      <td>2</td>\n",
       "      <td>1</td>\n",
       "      <td>1</td>\n",
       "      <td>1</td>\n",
       "    </tr>\n",
       "    <tr>\n",
       "      <td>2</td>\n",
       "      <td>157def</td>\n",
       "      <td>4</td>\n",
       "      <td>2</td>\n",
       "      <td>2</td>\n",
       "      <td>26</td>\n",
       "      <td>2</td>\n",
       "      <td>08/04/2020</td>\n",
       "      <td>08/04/2020</td>\n",
       "      <td>9999-99-99</td>\n",
       "      <td>2</td>\n",
       "      <td>1</td>\n",
       "      <td>40</td>\n",
       "      <td>97</td>\n",
       "      <td>2</td>\n",
       "      <td>2</td>\n",
       "      <td>2</td>\n",
       "      <td>2</td>\n",
       "      <td>2</td>\n",
       "      <td>2</td>\n",
       "      <td>2</td>\n",
       "      <td>2</td>\n",
       "      <td>2</td>\n",
       "      <td>99</td>\n",
       "      <td>1</td>\n",
       "      <td>2</td>\n",
       "    </tr>\n",
       "    <tr>\n",
       "      <td>3</td>\n",
       "      <td>170aea</td>\n",
       "      <td>4</td>\n",
       "      <td>9</td>\n",
       "      <td>2</td>\n",
       "      <td>15</td>\n",
       "      <td>1</td>\n",
       "      <td>16/04/2020</td>\n",
       "      <td>08/04/2020</td>\n",
       "      <td>29/04/2020</td>\n",
       "      <td>97</td>\n",
       "      <td>2</td>\n",
       "      <td>70</td>\n",
       "      <td>97</td>\n",
       "      <td>1</td>\n",
       "      <td>2</td>\n",
       "      <td>2</td>\n",
       "      <td>2</td>\n",
       "      <td>1</td>\n",
       "      <td>2</td>\n",
       "      <td>2</td>\n",
       "      <td>2</td>\n",
       "      <td>1</td>\n",
       "      <td>99</td>\n",
       "      <td>1</td>\n",
       "      <td>97</td>\n",
       "    </tr>\n",
       "    <tr>\n",
       "      <td>4</td>\n",
       "      <td>01dea4</td>\n",
       "      <td>4</td>\n",
       "      <td>9</td>\n",
       "      <td>2</td>\n",
       "      <td>9</td>\n",
       "      <td>1</td>\n",
       "      <td>20/04/2020</td>\n",
       "      <td>07/04/2020</td>\n",
       "      <td>30/04/2020</td>\n",
       "      <td>97</td>\n",
       "      <td>2</td>\n",
       "      <td>36</td>\n",
       "      <td>97</td>\n",
       "      <td>2</td>\n",
       "      <td>2</td>\n",
       "      <td>2</td>\n",
       "      <td>2</td>\n",
       "      <td>2</td>\n",
       "      <td>2</td>\n",
       "      <td>1</td>\n",
       "      <td>2</td>\n",
       "      <td>2</td>\n",
       "      <td>99</td>\n",
       "      <td>1</td>\n",
       "      <td>97</td>\n",
       "    </tr>\n",
       "  </tbody>\n",
       "</table>\n",
       "</div>"
      ],
      "text/plain": [
       "  ID_REGISTRO  SECTOR  ENTIDAD_UM  SEXO  ENTIDAD_RES  TIPO_PACIENTE  \\\n",
       "0      1ba22b       3          25     2           25              2   \n",
       "1      00b59f       3          27     2           27              2   \n",
       "2      157def       4           2     2           26              2   \n",
       "3      170aea       4           9     2           15              1   \n",
       "4      01dea4       4           9     2            9              1   \n",
       "\n",
       "  FECHA_INGRESO FECHA_SINTOMAS   FECHA_DEF  INTUBADO  NEUMONIA  EDAD  \\\n",
       "0    23/04/2020     16/04/2020  27/04/2020         1         1    55   \n",
       "1    24/04/2020     20/04/2020  9999-99-99         2         1   103   \n",
       "2    08/04/2020     08/04/2020  9999-99-99         2         1    40   \n",
       "3    16/04/2020     08/04/2020  29/04/2020        97         2    70   \n",
       "4    20/04/2020     07/04/2020  30/04/2020        97         2    36   \n",
       "\n",
       "   EMBARAZO  DIABETES  EPOC  ASMA  INMUSUPR  HIPERTENSION  CARDIOVASCULAR  \\\n",
       "0        97         1     2     2         2             1               1   \n",
       "1        97         2     2     2         2             2               2   \n",
       "2        97         2     2     2         2             2               2   \n",
       "3        97         1     2     2         2             1               2   \n",
       "4        97         2     2     2         2             2               2   \n",
       "\n",
       "   OBESIDAD  RENAL_CRONICA  TABAQUISMO  OTRO_CASO  RESULTADO  UCI  \n",
       "0         1              2           2         99          1    2  \n",
       "1         2              2           2          1          1    1  \n",
       "2         2              2           2         99          1    2  \n",
       "3         2              2           1         99          1   97  \n",
       "4         1              2           2         99          1   97  "
      ]
     },
     "execution_count": 4,
     "metadata": {},
     "output_type": "execute_result"
    }
   ],
   "source": [
    "# Vemos las estructura que tienen los datos\n",
    "datos.head()"
   ]
  },
  {
   "cell_type": "markdown",
   "metadata": {},
   "source": [
    "Las columnas que tienen solo números, tienen su respectivo diccionario, es decir, qué significa cada cosa, \n",
    "por ejemplo, si hay un \"2\" en la columna de \"sexo\" entonces significa que es hombre, como abajo se indica."
   ]
  },
  {
   "cell_type": "code",
   "execution_count": 5,
   "metadata": {},
   "outputs": [],
   "source": [
    "# Diccionario de indicación simple, correspondiente a las columnas:\n",
    "# \"EMBARAZO\", \"DIABETES\", \"EPOC\", \"ASMA\", \"INMUSUPR\",  \"HIPERTENSION\", \"CARDIOVASCULAR\", \"OBESIDAD\"\n",
    "# \"RENAL_CRONICA\", \"TABAQUISMO\", \"OTRO_CASO\", \"INTUBADO\", \"NEUMONIA\"\n",
    "si_no = {\n",
    "        '1':'SI', \n",
    "        '2':'NO', \n",
    "        '97':'NO APLICA', \n",
    "        '98':'SE IGNORA', \n",
    "        '99':'NO ESPECIFICADO'}\n",
    "\n",
    "# Diccionario que indica el sexo, correspondiente a la columna \"SEXO\"\n",
    "sexo = {\n",
    "        '1':'MUJER',\n",
    "        '2':'HOMBRE',\n",
    "        '99':'NO ESPECIFICADO'\n",
    "        }\n",
    "\n",
    "# Diccionario que indica el sector de cada paciente, Correspondiente a la columna \"SECTOR\"\n",
    "sector = {\n",
    "        '1': 'CRUZ ROJA',\n",
    "        '2': 'DIF',\n",
    "        '3': 'ESTATAL',\n",
    "        '4': 'IMSS',\n",
    "        '5': 'IMSS-BIENESTAR',\n",
    "        '6': 'ISSSTE',\n",
    "        '7': 'MUNICIPAL',\n",
    "        '8': 'PEMEX',\n",
    "        '9': 'PRIVADA',\n",
    "        '10': 'SEDENA',\n",
    "        '11': 'SEMAR',\n",
    "        '12': 'SSA',\n",
    "        '13': 'UNIVERSITARIO',\n",
    "        '99': 'NO ESPECIFICADO'\n",
    "        }\n",
    "# Diccionario que indica el estado de cada paciente, correspondiente a la columna \"TIPO_PACIENTE\"\n",
    "paciente = {\n",
    "        '1':'AMBULATORIO',\n",
    "        '2':'HOSPITALIZADO',\n",
    "        '99':'NO ESPECIFICADO'\n",
    "        }\n",
    "# Diccionario que indica el resultado del paciente, correspondiente a la columna \"RESULTADO\"\n",
    "resultado = {\n",
    "        '1':'Positivo SARS-CoV-2',\n",
    "        '2':'No positivo SARS-CoV-2',\n",
    "        '3':'Resultado pendiente'\n",
    "        }\n",
    "\n",
    "# Diccionario que indica la ubicación del paciente, correspondiente a la columna \"ENTIDAD_RES\"\n",
    "entidades = {\n",
    "        '01': 'AGUASCALIENTES',\n",
    "        '02': 'BAJA CALIFORNIA',\n",
    "        '03': 'BAJA CALIFORNIA SUR',\n",
    "        '04': 'CAMPECHE',\n",
    "        '05': 'COAHUILA DE ZARAGOZA',\n",
    "        '06': 'COLIMA',\n",
    "        '07': 'CHIAPAS',\n",
    "        '08': 'CHIHUAHUA',\n",
    "        '09': 'CIUDAD DE MÉXICO',\n",
    "        '10': 'DURANGO',\n",
    "        '11': 'GUANAJUATO',\n",
    "        '12': 'GUERRERO',\n",
    "        '13': 'HIDALGO',\n",
    "        '14': 'JALISCO',\n",
    "        '15': 'MÉXICO',\n",
    "        '16': 'MICHOACÁN DE OCAMPO',\n",
    "        '17': 'MORELOS',\n",
    "        '18': 'NAYARIT',\n",
    "        '19': 'NUEVO LEÓN',\n",
    "        '20': 'OAXACA',\n",
    "        '21': 'PUEBLA',\n",
    "        '22': 'QUERÉTARO',\n",
    "        '23': 'QUINTANA ROO',\n",
    "        '24': 'SAN LUIS POTOSÍ',\n",
    "        '25': 'SINALOA',\n",
    "        '26': 'SONORA',\n",
    "        '27': 'TABASCO',\n",
    "        '28': 'TAMAULIPAS',\n",
    "        '29': 'TLAXCALA',\n",
    "        '30': 'VERACRUZ DE IGNACIO DE LA LLAVE',\n",
    "        '31': 'YUCATÁN',\n",
    "        '32': 'ZACATECAS',\n",
    "        '36': 'ESTADOS UNIDOS MEXICANOS',\n",
    "        '97': 'NO APLICA',\n",
    "        '98': 'SE IGNORA',\n",
    "        '99': 'NO ESPECIFICADO'\n",
    "}"
   ]
  },
  {
   "cell_type": "markdown",
   "metadata": {},
   "source": [
    "Ahora creo un diccionario de que cátalogo le corresponde cada columna del dataframe:"
   ]
  },
  {
   "cell_type": "code",
   "execution_count": 6,
   "metadata": {},
   "outputs": [],
   "source": [
    "# Ahora, creamos un diccionario que nos permita relacionar cada columna con su respectivo catálogo, \n",
    "# mostrado y especificado anteriormente\n",
    "columna = {\n",
    "        'SECTOR': sector,                                                            \n",
    "        'ENTIDAD_UM': entidades,\n",
    "        'SEXO': sexo,                    \n",
    "        'ENTIDAD_RES': entidades,\n",
    "        'TIPO_PACIENTE': paciente,\n",
    "        'RESULTADO': resultado,\n",
    "        'INTUBADO':si_no,\t                                                             \n",
    "        'NEUMONIA':si_no,                                                          \n",
    "        'EMBARAZO':si_no,\t                                                              \n",
    "        'DIABETES':si_no,\t                                                                \n",
    "        'EPOC':si_no,                                                           \n",
    "        'ASMA':si_no,                                                               \n",
    "        'INMUSUPR':si_no,\t                                                                \n",
    "        'HIPERTENSION':si_no,                                                                 \n",
    "        'CARDIOVASCULAR':si_no,\t                                                                 \n",
    "        'OBESIDAD':si_no,                                                                  \n",
    "        'RENAL_CRONICA':si_no,                                                       \n",
    "        'TABAQUISMO':si_no,\t                                                            \n",
    "        'OTRO_CASO':si_no,\t                                                                       \n",
    "        'UCI':si_no                                                                  \n",
    "}"
   ]
  },
  {
   "cell_type": "code",
   "execution_count": 7,
   "metadata": {},
   "outputs": [
    {
     "name": "stdout",
     "output_type": "stream",
     "text": [
      "HOMBRE\n",
      "COAHUILA DE ZARAGOZA\n"
     ]
    }
   ],
   "source": [
    "# Dos ejemplos de las consulta de este último catálogo es la siguiente\n",
    "print(columna['SEXO']['2'])\n",
    "\n",
    "print(columna['ENTIDAD_RES']['05'])"
   ]
  },
  {
   "cell_type": "markdown",
   "metadata": {},
   "source": [
    "# Probabilidad de muerte y hospitalización dada una complicación de salud previa\n",
    "\n",
    "En este caso calcularemos la probabilidad de morir dado que se tiene cierta complicación de salud. (**Ojo:** Toda la muestra de análisis está confirmada con Coronavirus). "
   ]
  },
  {
   "cell_type": "code",
   "execution_count": 8,
   "metadata": {},
   "outputs": [
    {
     "data": {
      "text/plain": [
       "Index(['ID_REGISTRO', 'SECTOR', 'ENTIDAD_UM', 'SEXO', 'ENTIDAD_RES',\n",
       "       'TIPO_PACIENTE', 'FECHA_INGRESO', 'FECHA_SINTOMAS', 'FECHA_DEF',\n",
       "       'INTUBADO', 'NEUMONIA', 'EDAD', 'EMBARAZO', 'DIABETES', 'EPOC', 'ASMA',\n",
       "       'INMUSUPR', 'HIPERTENSION', 'CARDIOVASCULAR', 'OBESIDAD',\n",
       "       'RENAL_CRONICA', 'TABAQUISMO', 'OTRO_CASO', 'RESULTADO', 'UCI'],\n",
       "      dtype='object')"
      ]
     },
     "execution_count": 8,
     "metadata": {},
     "output_type": "execute_result"
    }
   ],
   "source": [
    "# Sólo nos interesan los casos positivos, por ende, los filtramos a una variable llamada \"enfermos\" \n",
    "enfermos = datos[datos['RESULTADO'] == 1]\n",
    "# Verificamos que tenga las columnas correspondientes y todo marche bien\n",
    "enfermos.columns"
   ]
  },
  {
   "cell_type": "markdown",
   "metadata": {},
   "source": [
    "**NOTA**: Los pacientes que no tienen fecha de defunción están marcados en la columna 'FECHA_DEF' con el número '9999-99-99', usaremos esto para calcular las muertes totales"
   ]
  },
  {
   "cell_type": "code",
   "execution_count": 9,
   "metadata": {},
   "outputs": [
    {
     "name": "stdout",
     "output_type": "stream",
     "text": [
      "Probabilidad de muerte general: P(MG) = 0.11018545813413994\n",
      "Probabilidad de hospitalización general: P(HG) = 0.3620470886789793\n"
     ]
    }
   ],
   "source": [
    "# Obtenemos la probabilidad general de muertes\n",
    "enfermos_totales = len(enfermos) # Número de enfermos\n",
    "muertos_totales = len(enfermos[enfermos['FECHA_DEF'] != '9999-99-99']) # Número de defunciones\n",
    "hospitalizados_totales = len(enfermos[enfermos['TIPO_PACIENTE'] == 2]) # Número de hospitalizados\n",
    "\n",
    "p_general_muerte = muertos_totales/enfermos_totales # Probabilidad general de muerte (Sin considerar otras complicaciones)\n",
    "p_general_hosp = hospitalizados_totales/enfermos_totales # Probailidad de ser hospitazado\n",
    "print(f\"Probabilidad de muerte general: P(MG) = {p_general_muerte}\")\n",
    "print(f\"Probabilidad de hospitalización general: P(HG) = {p_general_hosp}\")"
   ]
  },
  {
   "cell_type": "code",
   "execution_count": 10,
   "metadata": {},
   "outputs": [
    {
     "name": "stdout",
     "output_type": "stream",
     "text": [
      "Probabilidad de muerte sólo por coronavirus: P(MC) = 0.03169263456090651\n",
      "Probabilidad de hospitalizado sólo por coronavirus: P(HC) = 0.18047686496694995\n"
     ]
    }
   ],
   "source": [
    "# El siguiente código calcula la probabilidad de muerte de una persona sin complicaciones de salud\n",
    "# Sólo CORONAVIRUS\n",
    "complicaciones = enfermos.columns[12:22]   # Arreglo lleno de los nombres de las complicaciones\n",
    "\n",
    "sin_comp = datos[datos['RESULTADO'] == 1]  # Filtramos solo confirmados con COVID\n",
    "\n",
    "# Recorremos cada complicación y nos aseguramos de que filtrar todas las que tienen número 2, es decir, \"NO\".\n",
    "for i, complicacion in enumerate(complicaciones):\n",
    "    sin_comp = sin_comp[sin_comp[complicacion] == 2]\n",
    "    \n",
    "# Obtenemos el tamaño del arreglo, los hospitalizados sólo con Coronavirus y los muertos sólo por coronavirus\n",
    "n_sin_comp = len(sin_comp)\n",
    "hosp_sin_comp = len(sin_comp[sin_comp['TIPO_PACIENTE'] == 2])\n",
    "muertos_sin_comp = len(sin_comp[sin_comp['FECHA_DEF'] != '9999-99-99'])\n",
    "\n",
    "# Obtenemos la probabilidad de: \n",
    "p_sano_muerte = muertos_sin_comp/n_sin_comp # Muerto sólo por coronavirus\n",
    "p_sano_hosp = hosp_sin_comp/n_sin_comp # Hospitalizado sólo por coronavirus\n",
    "\n",
    "# Imprimimos resultados\n",
    "print(f\"Probabilidad de muerte sólo por coronavirus: P(MC) = {p_sano_muerte}\")\n",
    "print(f\"Probabilidad de hospitalizado sólo por coronavirus: P(HC) = {p_sano_hosp}\")"
   ]
  },
  {
   "cell_type": "code",
   "execution_count": 11,
   "metadata": {},
   "outputs": [
    {
     "data": {
      "text/html": [
       "<div>\n",
       "<style scoped>\n",
       "    .dataframe tbody tr th:only-of-type {\n",
       "        vertical-align: middle;\n",
       "    }\n",
       "\n",
       "    .dataframe tbody tr th {\n",
       "        vertical-align: top;\n",
       "    }\n",
       "\n",
       "    .dataframe thead th {\n",
       "        text-align: right;\n",
       "    }\n",
       "</style>\n",
       "<table border=\"1\" class=\"dataframe\">\n",
       "  <thead>\n",
       "    <tr style=\"text-align: right;\">\n",
       "      <th></th>\n",
       "      <th>Complicación</th>\n",
       "      <th>Casos</th>\n",
       "      <th>Hospitalizados</th>\n",
       "      <th>Defunciones</th>\n",
       "      <th>Probabilidad muerte</th>\n",
       "      <th>Probabilidad hospitalizacion</th>\n",
       "    </tr>\n",
       "  </thead>\n",
       "  <tbody>\n",
       "    <tr>\n",
       "      <td>0</td>\n",
       "      <td>EMBARAZO</td>\n",
       "      <td>486</td>\n",
       "      <td>152</td>\n",
       "      <td>13</td>\n",
       "      <td>0.026749</td>\n",
       "      <td>0.312757</td>\n",
       "    </tr>\n",
       "    <tr>\n",
       "      <td>11</td>\n",
       "      <td>SANOS</td>\n",
       "      <td>16944</td>\n",
       "      <td>3058</td>\n",
       "      <td>537</td>\n",
       "      <td>0.031693</td>\n",
       "      <td>0.180477</td>\n",
       "    </tr>\n",
       "    <tr>\n",
       "      <td>3</td>\n",
       "      <td>ASMA</td>\n",
       "      <td>2290</td>\n",
       "      <td>669</td>\n",
       "      <td>196</td>\n",
       "      <td>0.085590</td>\n",
       "      <td>0.292140</td>\n",
       "    </tr>\n",
       "    <tr>\n",
       "      <td>10</td>\n",
       "      <td>GENERAL</td>\n",
       "      <td>78023</td>\n",
       "      <td>28248</td>\n",
       "      <td>8597</td>\n",
       "      <td>0.110185</td>\n",
       "      <td>0.362047</td>\n",
       "    </tr>\n",
       "    <tr>\n",
       "      <td>9</td>\n",
       "      <td>TABAQUISMO</td>\n",
       "      <td>6470</td>\n",
       "      <td>2444</td>\n",
       "      <td>812</td>\n",
       "      <td>0.125502</td>\n",
       "      <td>0.377743</td>\n",
       "    </tr>\n",
       "    <tr>\n",
       "      <td>7</td>\n",
       "      <td>OBESIDAD</td>\n",
       "      <td>16053</td>\n",
       "      <td>6784</td>\n",
       "      <td>2306</td>\n",
       "      <td>0.143649</td>\n",
       "      <td>0.422600</td>\n",
       "    </tr>\n",
       "    <tr>\n",
       "      <td>4</td>\n",
       "      <td>INMUSUPR</td>\n",
       "      <td>1216</td>\n",
       "      <td>730</td>\n",
       "      <td>262</td>\n",
       "      <td>0.215461</td>\n",
       "      <td>0.600329</td>\n",
       "    </tr>\n",
       "    <tr>\n",
       "      <td>5</td>\n",
       "      <td>HIPERTENSION</td>\n",
       "      <td>16444</td>\n",
       "      <td>9297</td>\n",
       "      <td>3583</td>\n",
       "      <td>0.217891</td>\n",
       "      <td>0.565373</td>\n",
       "    </tr>\n",
       "    <tr>\n",
       "      <td>1</td>\n",
       "      <td>DIABETES</td>\n",
       "      <td>13854</td>\n",
       "      <td>8579</td>\n",
       "      <td>3223</td>\n",
       "      <td>0.232640</td>\n",
       "      <td>0.619244</td>\n",
       "    </tr>\n",
       "    <tr>\n",
       "      <td>6</td>\n",
       "      <td>CARDIOVASCULAR</td>\n",
       "      <td>2056</td>\n",
       "      <td>1175</td>\n",
       "      <td>487</td>\n",
       "      <td>0.236868</td>\n",
       "      <td>0.571498</td>\n",
       "    </tr>\n",
       "    <tr>\n",
       "      <td>2</td>\n",
       "      <td>EPOC</td>\n",
       "      <td>1588</td>\n",
       "      <td>1062</td>\n",
       "      <td>481</td>\n",
       "      <td>0.302897</td>\n",
       "      <td>0.668766</td>\n",
       "    </tr>\n",
       "    <tr>\n",
       "      <td>8</td>\n",
       "      <td>RENAL_CRONICA</td>\n",
       "      <td>1840</td>\n",
       "      <td>1318</td>\n",
       "      <td>595</td>\n",
       "      <td>0.323370</td>\n",
       "      <td>0.716304</td>\n",
       "    </tr>\n",
       "  </tbody>\n",
       "</table>\n",
       "</div>"
      ],
      "text/plain": [
       "      Complicación  Casos  Hospitalizados  Defunciones  Probabilidad muerte  \\\n",
       "0         EMBARAZO    486             152           13             0.026749   \n",
       "11           SANOS  16944            3058          537             0.031693   \n",
       "3             ASMA   2290             669          196             0.085590   \n",
       "10         GENERAL  78023           28248         8597             0.110185   \n",
       "9       TABAQUISMO   6470            2444          812             0.125502   \n",
       "7         OBESIDAD  16053            6784         2306             0.143649   \n",
       "4         INMUSUPR   1216             730          262             0.215461   \n",
       "5     HIPERTENSION  16444            9297         3583             0.217891   \n",
       "1         DIABETES  13854            8579         3223             0.232640   \n",
       "6   CARDIOVASCULAR   2056            1175          487             0.236868   \n",
       "2             EPOC   1588            1062          481             0.302897   \n",
       "8    RENAL_CRONICA   1840            1318          595             0.323370   \n",
       "\n",
       "    Probabilidad hospitalizacion  \n",
       "0                       0.312757  \n",
       "11                      0.180477  \n",
       "3                       0.292140  \n",
       "10                      0.362047  \n",
       "9                       0.377743  \n",
       "7                       0.422600  \n",
       "4                       0.600329  \n",
       "5                       0.565373  \n",
       "1                       0.619244  \n",
       "6                       0.571498  \n",
       "2                       0.668766  \n",
       "8                       0.716304  "
      ]
     },
     "execution_count": 11,
     "metadata": {},
     "output_type": "execute_result"
    }
   ],
   "source": [
    "# Obtenemos los diferentes datos para cada tipo de complicación de salud\n",
    "\n",
    "p_muerte_comp = [] #Aqui guardaremos los datos\n",
    "\n",
    "for i, complicacion in enumerate(complicaciones):\n",
    "    p_muerte_comp.append([])\n",
    "    p_muerte_comp[i].append(complicacion)  # Agregamos el nombre de la complicacion\n",
    "    \n",
    "    # El siguiente arreglo guarda todos aquellos casos que tengan cada complicación\n",
    "    casos = enfermos[enfermos[complicacion] == 1]\n",
    "    n_casos = len(casos)   # El tamaño del arreglo\n",
    "    p_muerte_comp[i].append(n_casos)  # Número de casos con esa complicación\n",
    "    \n",
    "    n_hospitalizado = len(casos[casos['TIPO_PACIENTE'] == 2])\n",
    "    p_muerte_comp[i].append(n_hospitalizado)  #Número de personas hospitalizadas con esa complicación\n",
    "    \n",
    "    muertos = casos[casos['FECHA_DEF'] != '9999-99-99']\n",
    "    n_muertos = len(muertos)\n",
    "    p_muerte_comp[i].append(n_muertos)  #Número de muertos con esa complicacion de salud\n",
    "    \n",
    "    probabilidad_muerte = n_muertos/n_casos   # Probabilidad de muerte por condición\n",
    "    p_muerte_comp[i].append(probabilidad_muerte)\n",
    "    \n",
    "    probabilidad_h = n_hospitalizado/n_casos\n",
    "    p_muerte_comp[i].append(probabilidad_h)   # Probabilidad condicional de hospitalización\n",
    "    \n",
    "p_muerte_comp.append(['GENERAL', enfermos_totales, hospitalizados_totales, \n",
    "                      muertos_totales, p_general_muerte, p_general_hosp])  # Añadimos el general nacional\n",
    "p_muerte_comp.append(['SANOS', n_sin_comp, hosp_sin_comp,\n",
    "                      muertos_sin_comp, p_sano_muerte, p_sano_hosp])   # Añadimos el caso sin complicaciones\n",
    "\n",
    "# Creamos nuestro dataFrame para visualizar mejor los datos\n",
    "p_muerte_comp = pd.DataFrame(p_muerte_comp, columns = ['Complicación', 'Casos',  'Hospitalizados',\n",
    "                                                       'Defunciones', 'Probabilidad muerte', \n",
    "                                                       'Probabilidad hospitalizacion']).sort_values(by=\"Probabilidad muerte\")\n",
    "p_muerte_comp"
   ]
  },
  {
   "cell_type": "markdown",
   "metadata": {},
   "source": [
    "### Graficamos probabilidad de muerte"
   ]
  },
  {
   "cell_type": "code",
   "execution_count": 12,
   "metadata": {},
   "outputs": [
    {
     "data": {
      "image/png": "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\n",
      "text/plain": [
       "<Figure size 504x504 with 1 Axes>"
      ]
     },
     "metadata": {
      "needs_background": "light"
     },
     "output_type": "display_data"
    }
   ],
   "source": [
    "# El siguiente código grafica la probabilidad de muerte frente a las complicaciones\n",
    "\n",
    "ordenados = p_muerte_comp.sort_values(by='Probabilidad muerte') #Ordenamos de acuerdo a la probabilidad\n",
    "# Creamos nuestra lista de complicaciones\n",
    "index = ordenados['Complicación']\n",
    "# Creamos nuestros labels para las gráficas\n",
    "labels = ['Renal crónica', 'EPOC', 'Cardiovascular', 'Diabetes', \n",
    "          'Hipertensión', 'Inmunosupresión', 'Obesidad', 'Tabaquismo', \n",
    "          'General nacional', 'Asma', 'Sin complicaciones', 'Embarazo']\n",
    "# Creamos una lista con las probabilidades y números consecutivos\n",
    "y = ordenados['Probabilidad muerte']\n",
    "x = [i for i in range(len(index))]\n",
    "\n",
    "# Creamos nuestro objeto fig y aux que nos permiten realizar la gráfica gracias a matplotlib\n",
    "fig, ax = plt.subplots(figsize = (7,7))\n",
    "# Graficamos y escogemos el color\n",
    "grafica = ax.barh(x, y, color = '#a8324a')\n",
    "# Cambiamos el color de las celdas \"Sin complicaciones\" y \"General Nacional\" para resaltarlas\n",
    "grafica[1].set_color('#32a84c')\n",
    "grafica[3].set_color('#3283a8')\n",
    "# Hacemos la cuadrícula visible\n",
    "ax.grid(alpha = 0.3)\n",
    "# Añadimos título\n",
    "ax.set_title('Probabilidad de muerte por COVID-19 \\n dadas complicaciones de salud previas')\n",
    "# Asignamos los labels o nombre de cada barra\n",
    "plt.yticks([11, 10, 9, 8,7,6,5,4,3,2,1,0])\n",
    "ax.set_yticklabels(labels)\n",
    "ax.set_xlabel('Probabilidad')\n",
    "# Mostramos gráfica\n",
    "plt.show()"
   ]
  },
  {
   "cell_type": "markdown",
   "metadata": {},
   "source": [
    "### Graficamos probabiliada de hospitalización"
   ]
  },
  {
   "cell_type": "code",
   "execution_count": 13,
   "metadata": {},
   "outputs": [
    {
     "data": {
      "image/png": "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\n",
      "text/plain": [
       "<Figure size 504x504 with 1 Axes>"
      ]
     },
     "metadata": {
      "needs_background": "light"
     },
     "output_type": "display_data"
    }
   ],
   "source": [
    "# Lo anterior es casi exactamente lo mismo que antes, pero ahora con el caso de hospitalización.\n",
    "ordenados = p_muerte_comp.sort_values(by='Probabilidad hospitalizacion') #Ordenamos de acuerdo a la probabilidad\n",
    "# Creamos nuestra lista de complicaciones\n",
    "index = ordenados['Complicación']\n",
    "# Creamos nuestros labels para las gráficas\n",
    "labels = ['Renal crónica', 'EPOC', 'Diabetes', 'Inmunosupresión', 'Cardiovascular',  \n",
    "          'Hipertensión',  'Obesidad', 'Tabaquismo', \n",
    "          'General nacional', 'Embarazo', 'Asma', 'Sin complicaciones']\n",
    "\n",
    "# Creamos una lista con las probabilidades y números consecutivos\n",
    "y = ordenados['Probabilidad hospitalizacion']\n",
    "x = [i for i in range(len(index))]\n",
    "\n",
    "# Creamos nuestro objeto fig y aux que nos permiten realizar la gráfica gracias a matplotlib\n",
    "fig, ax = plt.subplots(figsize = (7,7))\n",
    "\n",
    "# Graficamos y escogemos el color\n",
    "grafica = ax.barh(x, y, color = '#a8324a')\n",
    "\n",
    "# Cambiamos el color de las celdas \"Sin complicaciones\" y \"General Nacional\" para resaltarlas\n",
    "grafica[0].set_color('#32a84c')\n",
    "grafica[3].set_color('#3283a8')\n",
    "\n",
    "# Hacemos la cuadrícula visible\n",
    "ax.grid(alpha = 0.3)\n",
    "\n",
    "# Añadimos título\n",
    "ax.set_title('Probabilidad de hospitalización por COVID-19 \\n dadas complicaciones de salud previas')\n",
    "\n",
    "# Añadimos labels\n",
    "plt.yticks([11, 10, 9, 8,7,6,5,4,3,2,1,0])\n",
    "ax.set_yticklabels(labels)\n",
    "ax.set_xlabel('Probabilidad')\n",
    "\n",
    "# Mostramos gráfica\n",
    "plt.show()"
   ]
  },
  {
   "cell_type": "markdown",
   "metadata": {},
   "source": [
    "# Tipo de paciente por grupo de edad"
   ]
  },
  {
   "cell_type": "markdown",
   "metadata": {},
   "source": [
    "En esta sección del código separaremos cada paciente en un grupo de edad, los grupos de edad serán de 10 años"
   ]
  },
  {
   "cell_type": "code",
   "execution_count": 14,
   "metadata": {},
   "outputs": [],
   "source": [
    "data = datos.copy()  # Creamos copia de los datos\n",
    "\n",
    "bins = [x*10 for x in range(11)]  # Creamos los limites de los grupos\n",
    "\n",
    "edad = []\n",
    "\n",
    "for i in range(10):\n",
    "    # Creamos array booleano selector\n",
    "    menores = data['EDAD'] < bins[i+1]\n",
    "    mayores = data['EDAD'] >= bins[i]\n",
    "    tomar = []\n",
    "    for j in range(len(data)):\n",
    "        tomar.append(menores[j] and mayores[j])\n",
    "        \n",
    "    # Agregamos los resultados filtrados a \"edad\"\n",
    "    edad.append([])\n",
    "    edad[i].append(f'{bins[i]}-{bins[i+1]-1}')\n",
    "    edad[i].append(data[tomar])"
   ]
  },
  {
   "cell_type": "code",
   "execution_count": 15,
   "metadata": {},
   "outputs": [
    {
     "name": "stdout",
     "output_type": "stream",
     "text": [
      "Grupo de edad: 60-69\n"
     ]
    },
    {
     "data": {
      "text/html": [
       "<div>\n",
       "<style scoped>\n",
       "    .dataframe tbody tr th:only-of-type {\n",
       "        vertical-align: middle;\n",
       "    }\n",
       "\n",
       "    .dataframe tbody tr th {\n",
       "        vertical-align: top;\n",
       "    }\n",
       "\n",
       "    .dataframe thead th {\n",
       "        text-align: right;\n",
       "    }\n",
       "</style>\n",
       "<table border=\"1\" class=\"dataframe\">\n",
       "  <thead>\n",
       "    <tr style=\"text-align: right;\">\n",
       "      <th></th>\n",
       "      <th>ID_REGISTRO</th>\n",
       "      <th>SECTOR</th>\n",
       "      <th>ENTIDAD_UM</th>\n",
       "      <th>SEXO</th>\n",
       "      <th>ENTIDAD_RES</th>\n",
       "      <th>TIPO_PACIENTE</th>\n",
       "      <th>FECHA_INGRESO</th>\n",
       "      <th>FECHA_SINTOMAS</th>\n",
       "      <th>FECHA_DEF</th>\n",
       "      <th>INTUBADO</th>\n",
       "      <th>NEUMONIA</th>\n",
       "      <th>EDAD</th>\n",
       "      <th>EMBARAZO</th>\n",
       "      <th>DIABETES</th>\n",
       "      <th>EPOC</th>\n",
       "      <th>ASMA</th>\n",
       "      <th>INMUSUPR</th>\n",
       "      <th>HIPERTENSION</th>\n",
       "      <th>CARDIOVASCULAR</th>\n",
       "      <th>OBESIDAD</th>\n",
       "      <th>RENAL_CRONICA</th>\n",
       "      <th>TABAQUISMO</th>\n",
       "      <th>OTRO_CASO</th>\n",
       "      <th>RESULTADO</th>\n",
       "      <th>UCI</th>\n",
       "    </tr>\n",
       "  </thead>\n",
       "  <tbody>\n",
       "    <tr>\n",
       "      <td>5</td>\n",
       "      <td>0fcdb4</td>\n",
       "      <td>4</td>\n",
       "      <td>15</td>\n",
       "      <td>2</td>\n",
       "      <td>15</td>\n",
       "      <td>2</td>\n",
       "      <td>21/04/2020</td>\n",
       "      <td>13/04/2020</td>\n",
       "      <td>9999-99-99</td>\n",
       "      <td>2</td>\n",
       "      <td>2</td>\n",
       "      <td>60</td>\n",
       "      <td>97</td>\n",
       "      <td>2</td>\n",
       "      <td>2</td>\n",
       "      <td>2</td>\n",
       "      <td>2</td>\n",
       "      <td>2</td>\n",
       "      <td>2</td>\n",
       "      <td>2</td>\n",
       "      <td>2</td>\n",
       "      <td>2</td>\n",
       "      <td>99</td>\n",
       "      <td>1</td>\n",
       "      <td>2</td>\n",
       "    </tr>\n",
       "    <tr>\n",
       "      <td>9</td>\n",
       "      <td>167559</td>\n",
       "      <td>4</td>\n",
       "      <td>9</td>\n",
       "      <td>2</td>\n",
       "      <td>9</td>\n",
       "      <td>1</td>\n",
       "      <td>18/04/2020</td>\n",
       "      <td>17/04/2020</td>\n",
       "      <td>9999-99-99</td>\n",
       "      <td>97</td>\n",
       "      <td>1</td>\n",
       "      <td>62</td>\n",
       "      <td>97</td>\n",
       "      <td>1</td>\n",
       "      <td>2</td>\n",
       "      <td>2</td>\n",
       "      <td>2</td>\n",
       "      <td>1</td>\n",
       "      <td>2</td>\n",
       "      <td>2</td>\n",
       "      <td>2</td>\n",
       "      <td>1</td>\n",
       "      <td>99</td>\n",
       "      <td>1</td>\n",
       "      <td>97</td>\n",
       "    </tr>\n",
       "    <tr>\n",
       "      <td>16</td>\n",
       "      <td>71944</td>\n",
       "      <td>4</td>\n",
       "      <td>14</td>\n",
       "      <td>2</td>\n",
       "      <td>14</td>\n",
       "      <td>2</td>\n",
       "      <td>04/05/2020</td>\n",
       "      <td>04/05/2020</td>\n",
       "      <td>9999-99-99</td>\n",
       "      <td>2</td>\n",
       "      <td>2</td>\n",
       "      <td>62</td>\n",
       "      <td>97</td>\n",
       "      <td>2</td>\n",
       "      <td>2</td>\n",
       "      <td>2</td>\n",
       "      <td>2</td>\n",
       "      <td>1</td>\n",
       "      <td>2</td>\n",
       "      <td>2</td>\n",
       "      <td>2</td>\n",
       "      <td>2</td>\n",
       "      <td>99</td>\n",
       "      <td>1</td>\n",
       "      <td>2</td>\n",
       "    </tr>\n",
       "    <tr>\n",
       "      <td>19</td>\n",
       "      <td>02a928</td>\n",
       "      <td>4</td>\n",
       "      <td>7</td>\n",
       "      <td>2</td>\n",
       "      <td>7</td>\n",
       "      <td>2</td>\n",
       "      <td>07/04/2020</td>\n",
       "      <td>07/04/2020</td>\n",
       "      <td>9999-99-99</td>\n",
       "      <td>2</td>\n",
       "      <td>2</td>\n",
       "      <td>61</td>\n",
       "      <td>97</td>\n",
       "      <td>2</td>\n",
       "      <td>2</td>\n",
       "      <td>2</td>\n",
       "      <td>2</td>\n",
       "      <td>2</td>\n",
       "      <td>2</td>\n",
       "      <td>1</td>\n",
       "      <td>2</td>\n",
       "      <td>2</td>\n",
       "      <td>99</td>\n",
       "      <td>1</td>\n",
       "      <td>2</td>\n",
       "    </tr>\n",
       "    <tr>\n",
       "      <td>20</td>\n",
       "      <td>15553</td>\n",
       "      <td>4</td>\n",
       "      <td>2</td>\n",
       "      <td>2</td>\n",
       "      <td>2</td>\n",
       "      <td>2</td>\n",
       "      <td>09/04/2020</td>\n",
       "      <td>04/04/2020</td>\n",
       "      <td>9999-99-99</td>\n",
       "      <td>2</td>\n",
       "      <td>1</td>\n",
       "      <td>64</td>\n",
       "      <td>97</td>\n",
       "      <td>2</td>\n",
       "      <td>2</td>\n",
       "      <td>2</td>\n",
       "      <td>2</td>\n",
       "      <td>1</td>\n",
       "      <td>2</td>\n",
       "      <td>2</td>\n",
       "      <td>2</td>\n",
       "      <td>2</td>\n",
       "      <td>99</td>\n",
       "      <td>1</td>\n",
       "      <td>2</td>\n",
       "    </tr>\n",
       "  </tbody>\n",
       "</table>\n",
       "</div>"
      ],
      "text/plain": [
       "   ID_REGISTRO  SECTOR  ENTIDAD_UM  SEXO  ENTIDAD_RES  TIPO_PACIENTE  \\\n",
       "5       0fcdb4       4          15     2           15              2   \n",
       "9       167559       4           9     2            9              1   \n",
       "16       71944       4          14     2           14              2   \n",
       "19      02a928       4           7     2            7              2   \n",
       "20       15553       4           2     2            2              2   \n",
       "\n",
       "   FECHA_INGRESO FECHA_SINTOMAS   FECHA_DEF  INTUBADO  NEUMONIA  EDAD  \\\n",
       "5     21/04/2020     13/04/2020  9999-99-99         2         2    60   \n",
       "9     18/04/2020     17/04/2020  9999-99-99        97         1    62   \n",
       "16    04/05/2020     04/05/2020  9999-99-99         2         2    62   \n",
       "19    07/04/2020     07/04/2020  9999-99-99         2         2    61   \n",
       "20    09/04/2020     04/04/2020  9999-99-99         2         1    64   \n",
       "\n",
       "    EMBARAZO  DIABETES  EPOC  ASMA  INMUSUPR  HIPERTENSION  CARDIOVASCULAR  \\\n",
       "5         97         2     2     2         2             2               2   \n",
       "9         97         1     2     2         2             1               2   \n",
       "16        97         2     2     2         2             1               2   \n",
       "19        97         2     2     2         2             2               2   \n",
       "20        97         2     2     2         2             1               2   \n",
       "\n",
       "    OBESIDAD  RENAL_CRONICA  TABAQUISMO  OTRO_CASO  RESULTADO  UCI  \n",
       "5          2              2           2         99          1    2  \n",
       "9          2              2           1         99          1   97  \n",
       "16         2              2           2         99          1    2  \n",
       "19         1              2           2         99          1    2  \n",
       "20         2              2           2         99          1    2  "
      ]
     },
     "execution_count": 15,
     "metadata": {},
     "output_type": "execute_result"
    }
   ],
   "source": [
    "# Esto es un ejemplo de como se ve edad:\n",
    "print('Grupo de edad:', edad[6][0])\n",
    "edad[6][1].head()"
   ]
  },
  {
   "cell_type": "markdown",
   "metadata": {},
   "source": [
    "Separamos cada grupo de edad por tipo de paciente: ambulatorio u hospitalizado:"
   ]
  },
  {
   "cell_type": "code",
   "execution_count": 16,
   "metadata": {},
   "outputs": [
    {
     "data": {
      "text/html": [
       "<div>\n",
       "<style scoped>\n",
       "    .dataframe tbody tr th:only-of-type {\n",
       "        vertical-align: middle;\n",
       "    }\n",
       "\n",
       "    .dataframe tbody tr th {\n",
       "        vertical-align: top;\n",
       "    }\n",
       "\n",
       "    .dataframe thead th {\n",
       "        text-align: right;\n",
       "    }\n",
       "</style>\n",
       "<table border=\"1\" class=\"dataframe\">\n",
       "  <thead>\n",
       "    <tr style=\"text-align: right;\">\n",
       "      <th></th>\n",
       "      <th>Grupo de edad</th>\n",
       "      <th>Casos totales</th>\n",
       "      <th>Ambulatorios</th>\n",
       "      <th>Hospitalizados</th>\n",
       "      <th>Fallecidos</th>\n",
       "      <th>Probabilidad de muerte</th>\n",
       "      <th>Probabilidad de hospitalización</th>\n",
       "    </tr>\n",
       "  </thead>\n",
       "  <tbody>\n",
       "    <tr>\n",
       "      <td>0</td>\n",
       "      <td>0-9</td>\n",
       "      <td>6804</td>\n",
       "      <td>4153</td>\n",
       "      <td>2651</td>\n",
       "      <td>137</td>\n",
       "      <td>0.020135</td>\n",
       "      <td>0.389624</td>\n",
       "    </tr>\n",
       "    <tr>\n",
       "      <td>1</td>\n",
       "      <td>10-19</td>\n",
       "      <td>7447</td>\n",
       "      <td>6342</td>\n",
       "      <td>1105</td>\n",
       "      <td>65</td>\n",
       "      <td>0.008728</td>\n",
       "      <td>0.148382</td>\n",
       "    </tr>\n",
       "    <tr>\n",
       "      <td>2</td>\n",
       "      <td>20-29</td>\n",
       "      <td>38783</td>\n",
       "      <td>35294</td>\n",
       "      <td>3489</td>\n",
       "      <td>241</td>\n",
       "      <td>0.006214</td>\n",
       "      <td>0.089962</td>\n",
       "    </tr>\n",
       "    <tr>\n",
       "      <td>3</td>\n",
       "      <td>30-39</td>\n",
       "      <td>59608</td>\n",
       "      <td>52837</td>\n",
       "      <td>6771</td>\n",
       "      <td>720</td>\n",
       "      <td>0.012079</td>\n",
       "      <td>0.113592</td>\n",
       "    </tr>\n",
       "    <tr>\n",
       "      <td>4</td>\n",
       "      <td>40-49</td>\n",
       "      <td>53918</td>\n",
       "      <td>43360</td>\n",
       "      <td>10558</td>\n",
       "      <td>1804</td>\n",
       "      <td>0.033458</td>\n",
       "      <td>0.195816</td>\n",
       "    </tr>\n",
       "    <tr>\n",
       "      <td>5</td>\n",
       "      <td>50-59</td>\n",
       "      <td>39670</td>\n",
       "      <td>26883</td>\n",
       "      <td>12787</td>\n",
       "      <td>3009</td>\n",
       "      <td>0.075851</td>\n",
       "      <td>0.322334</td>\n",
       "    </tr>\n",
       "    <tr>\n",
       "      <td>6</td>\n",
       "      <td>60-69</td>\n",
       "      <td>21688</td>\n",
       "      <td>10869</td>\n",
       "      <td>10819</td>\n",
       "      <td>3096</td>\n",
       "      <td>0.142752</td>\n",
       "      <td>0.498847</td>\n",
       "    </tr>\n",
       "    <tr>\n",
       "      <td>7</td>\n",
       "      <td>70-79</td>\n",
       "      <td>10965</td>\n",
       "      <td>4101</td>\n",
       "      <td>6864</td>\n",
       "      <td>2142</td>\n",
       "      <td>0.195349</td>\n",
       "      <td>0.625992</td>\n",
       "    </tr>\n",
       "    <tr>\n",
       "      <td>8</td>\n",
       "      <td>80-89</td>\n",
       "      <td>4886</td>\n",
       "      <td>1674</td>\n",
       "      <td>3212</td>\n",
       "      <td>1068</td>\n",
       "      <td>0.218584</td>\n",
       "      <td>0.657388</td>\n",
       "    </tr>\n",
       "    <tr>\n",
       "      <td>9</td>\n",
       "      <td>90-99</td>\n",
       "      <td>1026</td>\n",
       "      <td>409</td>\n",
       "      <td>617</td>\n",
       "      <td>189</td>\n",
       "      <td>0.184211</td>\n",
       "      <td>0.601365</td>\n",
       "    </tr>\n",
       "  </tbody>\n",
       "</table>\n",
       "</div>"
      ],
      "text/plain": [
       "  Grupo de edad  Casos totales  Ambulatorios  Hospitalizados  Fallecidos  \\\n",
       "0           0-9           6804          4153            2651         137   \n",
       "1         10-19           7447          6342            1105          65   \n",
       "2         20-29          38783         35294            3489         241   \n",
       "3         30-39          59608         52837            6771         720   \n",
       "4         40-49          53918         43360           10558        1804   \n",
       "5         50-59          39670         26883           12787        3009   \n",
       "6         60-69          21688         10869           10819        3096   \n",
       "7         70-79          10965          4101            6864        2142   \n",
       "8         80-89           4886          1674            3212        1068   \n",
       "9         90-99           1026           409             617         189   \n",
       "\n",
       "   Probabilidad de muerte  Probabilidad de hospitalización  \n",
       "0                0.020135                         0.389624  \n",
       "1                0.008728                         0.148382  \n",
       "2                0.006214                         0.089962  \n",
       "3                0.012079                         0.113592  \n",
       "4                0.033458                         0.195816  \n",
       "5                0.075851                         0.322334  \n",
       "6                0.142752                         0.498847  \n",
       "7                0.195349                         0.625992  \n",
       "8                0.218584                         0.657388  \n",
       "9                0.184211                         0.601365  "
      ]
     },
     "execution_count": 16,
     "metadata": {},
     "output_type": "execute_result"
    }
   ],
   "source": [
    "casos_edad = [] # Arreglo vacío que usaremos después\n",
    "\n",
    "for i in range(10):\n",
    "    # Obtenemos el tamaño de cada sección de edad\n",
    "    totales = len(edad[i][1])\n",
    "    # Obtenemos el número de pacientes que están en estado ambulatorio\n",
    "    ambulatorio = len(edad[i][1][edad[i][1]['TIPO_PACIENTE'] == 1])\n",
    "    # Obtenemos el número de pacientes que están en estado hospitalizado\n",
    "    hospitalizado = len(edad[i][1][edad[i][1]['TIPO_PACIENTE'] == 2])\n",
    "    \n",
    "    muertos = len(edad[i][1][edad[i][1]['FECHA_DEF']  != '9999-99-99'])\n",
    "    p_muerte = muertos/totales\n",
    "    p_hosp = hospitalizado/totales\n",
    "    \n",
    "    casos_edad.append([edad[i][0], totales, ambulatorio, hospitalizado, muertos, p_muerte, p_hosp])\n",
    "    \n",
    "grupo_edad = pd.DataFrame(casos_edad, columns = ['Grupo de edad', 'Casos totales', 'Ambulatorios',\n",
    "                                                 'Hospitalizados', 'Fallecidos', 'Probabilidad de muerte',\n",
    "                                                'Probabilidad de hospitalización'])\n",
    "\n",
    "grupo_edad"
   ]
  },
  {
   "cell_type": "markdown",
   "metadata": {},
   "source": [
    "### Graficamos tipo de paciente por edad (histograma):"
   ]
  },
  {
   "cell_type": "code",
   "execution_count": 17,
   "metadata": {},
   "outputs": [
    {
     "data": {
      "image/png": "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\n",
      "text/plain": [
       "<Figure size 432x288 with 1 Axes>"
      ]
     },
     "metadata": {
      "needs_background": "light"
     },
     "output_type": "display_data"
    }
   ],
   "source": [
    "# Creamos los labels o nombres de cada sección\n",
    "labels = [f'{x*10}-{(x+1)*10-1}' for x in range(10)]\n",
    "# Creamos nuestros histogramas, de hospitalizados y Ambulatorios\n",
    "plt.bar(labels, list(grupo_edad['Hospitalizados']), label = 'Hospitalizados', color = '#9c273f')\n",
    "plt.bar(labels, list(grupo_edad['Ambulatorios']), label = \n",
    "        'Ambulatorios', bottom = list(grupo_edad['Hospitalizados']), color = '#279c54')\n",
    "# Le agregamos los nombres y el título además de que le damos formato\n",
    "plt.legend()\n",
    "plt.xlabel('Grupo de edad')\n",
    "plt.ylabel('Casos')\n",
    "plt.xticks(rotation = 45)\n",
    "plt.title('Casos de COVID-19 por grupo de edad')\n",
    "plt.grid(alpha = 0.3)\n",
    "plt.show()"
   ]
  },
  {
   "cell_type": "markdown",
   "metadata": {},
   "source": [
    "### Graficamos las muertes registradas por edad "
   ]
  },
  {
   "cell_type": "code",
   "execution_count": 18,
   "metadata": {},
   "outputs": [
    {
     "data": {
      "image/png": "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\n",
      "text/plain": [
       "<Figure size 432x288 with 1 Axes>"
      ]
     },
     "metadata": {
      "needs_background": "light"
     },
     "output_type": "display_data"
    }
   ],
   "source": [
    "# Creamos nuestros intervalos como antes\n",
    "labels = [f'{x*10}-{(x+1)*10-1}' for x in range(10)]\n",
    "# Obtenemos nuestros datos\n",
    "y = grupo_edad['Fallecidos']\n",
    "# Graficamos\n",
    "plt.bar(labels, y, color = '#272121')\n",
    "# Le damos formato como anteriormente se menciona\n",
    "plt.xlabel('Grupo de edad')\n",
    "plt.ylabel('Muertes')\n",
    "plt.xticks(rotation = 45)\n",
    "plt.title('Muertes por grupo de edad')\n",
    "plt.grid(alpha = 0.3)\n",
    "plt.show()"
   ]
  },
  {
   "cell_type": "markdown",
   "metadata": {},
   "source": [
    "### Graficamos la probabilidad de hospitalización o muerte por edad"
   ]
  },
  {
   "cell_type": "code",
   "execution_count": 19,
   "metadata": {},
   "outputs": [
    {
     "data": {
      "image/png": "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\n",
      "text/plain": [
       "<Figure size 432x288 with 1 Axes>"
      ]
     },
     "metadata": {
      "needs_background": "light"
     },
     "output_type": "display_data"
    }
   ],
   "source": [
    "# Creamos nuestros intervalos como antes\n",
    "labels = [f'{x*10}-{(x+1)*10-1}' for x in range(10)]\n",
    "# Obtenemos nuestros datos\n",
    "y = grupo_edad['Probabilidad de muerte']\n",
    "# Graficamos\n",
    "plt.bar(labels, y, color = '#3b0f1a')\n",
    "# Le damos formato como anteriormente se menciona\n",
    "plt.xlabel('Grupo de edad')\n",
    "plt.ylabel('Probabilidad')\n",
    "plt.xticks(rotation = 45)\n",
    "plt.title('Probabilidad de muerte \\n por COVID-19 por grupo de edad')\n",
    "plt.grid(alpha = 0.3)\n",
    "plt.show()"
   ]
  },
  {
   "cell_type": "code",
   "execution_count": 20,
   "metadata": {},
   "outputs": [
    {
     "data": {
      "image/png": "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\n",
      "text/plain": [
       "<Figure size 432x288 with 1 Axes>"
      ]
     },
     "metadata": {
      "needs_background": "light"
     },
     "output_type": "display_data"
    }
   ],
   "source": [
    "# Este código es lo mismo que el anterior pero aquí graficamos la probabilidad de hospitalización\n",
    "labels = [f'{x*10}-{(x+1)*10-1}' for x in range(10)]\n",
    "\n",
    "y = grupo_edad['Probabilidad de hospitalización']\n",
    "\n",
    "plt.bar(labels, y, color = '#9c273f')\n",
    "\n",
    "plt.xlabel('Grupo de edad')\n",
    "plt.ylabel('Probabilidad')\n",
    "plt.xticks(rotation = 45)\n",
    "plt.title('Probabilidad de hospitalización \\n por COVID-19 por grupo de edad')\n",
    "plt.grid(alpha = 0.3, )\n",
    "plt.show()"
   ]
  },
  {
   "cell_type": "markdown",
   "metadata": {},
   "source": [
    "## Analisis de la evolución de la enfermedad\n",
    "\n",
    "### General"
   ]
  },
  {
   "cell_type": "code",
   "execution_count": 21,
   "metadata": {},
   "outputs": [
    {
     "name": "stdout",
     "output_type": "stream",
     "text": [
      "12477\n"
     ]
    }
   ],
   "source": [
    "# Veamos la cantidad total de muertes\n",
    "muertos = datos[datos['FECHA_DEF'] != '9999-99-99']\n",
    "print(len(muertos)) # Imprimimos"
   ]
  },
  {
   "cell_type": "code",
   "execution_count": 22,
   "metadata": {},
   "outputs": [],
   "source": [
    "# Obtenemos la fecha cuando empiezan los síntomas y las fechas de muerte\n",
    "sintomas = list(muertos['FECHA_SINTOMAS'])\n",
    "muerte = list(muertos['FECHA_DEF'])\n",
    "\n",
    "# Lo convertimos en un objeto reconocible por Python\n",
    "dias = []\n",
    "for i in range(len(sintomas)):\n",
    "    aux = sintomas[i].split('/')\n",
    "    a = date(int(aux[2]), int(aux[1]), int(aux[0]))\n",
    "    aux = muerte[i].split('/')\n",
    "    b = date(int(aux[2]), int(aux[1]), int(aux[0]))\n",
    "    delta = b-a\n",
    "    if(40>=delta.days>=0):\n",
    "        dias.append(int(delta.days))\n",
    "# Obtenemos una lista de los días que tardó cada persona en fallecer"
   ]
  },
  {
   "cell_type": "code",
   "execution_count": 23,
   "metadata": {},
   "outputs": [
    {
     "name": "stdout",
     "output_type": "stream",
     "text": [
      "Tiempo promedio de fallecimiento: 10.028\n",
      "Desviación estándar del tiempo: 6.482110255862074\n"
     ]
    }
   ],
   "source": [
    "# Obtendremos su promedio y su desviación estándar (De los días en que las personas que fallecieron)\n",
    "mean = np.average(dias)\n",
    "std = np.std(dias)\n",
    "\n",
    "print(f'Tiempo promedio de fallecimiento: {mean:.3f}')\n",
    "print(f\"Desviación estándar del tiempo: {std}\")"
   ]
  },
  {
   "cell_type": "code",
   "execution_count": 24,
   "metadata": {},
   "outputs": [
    {
     "data": {
      "image/png": "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\n",
      "text/plain": [
       "<Figure size 432x288 with 1 Axes>"
      ]
     },
     "metadata": {
      "needs_background": "light"
     },
     "output_type": "display_data"
    }
   ],
   "source": [
    "# Grafiquemos la lista de días antes mencionados\n",
    "a = plt.hist(dias, bins = [x for x in range(40)], color = '#9c273f')\n",
    "plt.xlabel('Dias')\n",
    "plt.ylabel('Total de casos')\n",
    "plt.grid(alpha = 0.3)\n",
    "plt.title('Dias desde primeros sintomas \\n hasta defunción')\n",
    "plt.show()"
   ]
  },
  {
   "cell_type": "markdown",
   "metadata": {},
   "source": [
    "### Ajuste de distribución de probabilidad"
   ]
  },
  {
   "cell_type": "code",
   "execution_count": 25,
   "metadata": {},
   "outputs": [],
   "source": [
    "# Hagamos un ajuste de distribución que nos proporcione información sobre los datos\n",
    "# Primero, sacamos todas las frecuencias de nuestra gráfica anterior\n",
    "frecuencias = a[0]\n",
    "totales = sum(frecuencias) # Sumamos las frecuencuas para tener un total\n",
    "# Obtenemos la probabilidad que tiene cada día \n",
    "probabilidad = frecuencias/totales"
   ]
  },
  {
   "cell_type": "code",
   "execution_count": 26,
   "metadata": {
    "scrolled": true
   },
   "outputs": [
    {
     "data": {
      "image/png": "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\n",
      "text/plain": [
       "<Figure size 432x288 with 1 Axes>"
      ]
     },
     "metadata": {
      "needs_background": "light"
     },
     "output_type": "display_data"
    }
   ],
   "source": [
    "# Graficamos estas probabilidades\n",
    "x = [x for x in range(len(probabilidad))]\n",
    "plt.plot(x, probabilidad, marker = '.', label = 'Datos')\n",
    "plt.legend()\n",
    "plt.ylabel('Probabilidad')\n",
    "plt.xlabel('Días')\n",
    "plt.title('Ajuste de distribución de probabilidad \\n de Poisson a los datos')\n",
    "plt.show()"
   ]
  },
  {
   "cell_type": "markdown",
   "metadata": {},
   "source": [
<<<<<<< HEAD
    "### Inferencia sobre los dias"
=======
    "**Tomaremos como variable aleatoria los días que pasan desde el inicio de la fecha de síntomas hasta la muerte de una persona coon Coronavirus registrada en México, lo que nos da lo siguiente y trataremos de hacer ajustes con distintas distribuciones de probabilidad**"
>>>>>>> 528f88dc2033207b10ed246d06245d578999dd68
   ]
  },
  {
   "cell_type": "markdown",
   "metadata": {},
   "source": [
<<<<<<< HEAD
    "Vamos a plantear una hipótesis sobre los datos que tenemos aqui."
=======
    "# Ajuste normal:"
>>>>>>> 528f88dc2033207b10ed246d06245d578999dd68
   ]
  },
  {
   "cell_type": "code",
<<<<<<< HEAD
   "execution_count": 48,
=======
   "execution_count": 35,
   "metadata": {},
   "outputs": [],
   "source": [
    "# Creamos nuestro modelo que será una función normal\n",
    "def funcionNormal(x, mean, std):\n",
    "    \"\"\"\n",
    "    Descripción: Regresa los valores que tomaría una distribución normal.\n",
    "    IN ={\n",
    "        mean: La media de los datos a que deseamos\n",
    "        std: La desviación estándar de los datos\n",
    "        x1: El dato x que estamos graficando en el momento\n",
    "    }\n",
    "    OUT: Los valores para una distribución normal\n",
    "    \"\"\"\n",
    "    # Fórmula de nuestra función normal\n",
    "    return 1/(std * np.sqrt(2 * np.pi)) * np.exp( - (x - mean)**2 / (2 * std**2) )"
   ]
  },
  {
   "cell_type": "code",
   "execution_count": 29,
>>>>>>> 528f88dc2033207b10ed246d06245d578999dd68
   "metadata": {},
   "outputs": [
    {
     "data": {
<<<<<<< HEAD
      "text/plain": [
       "10.027876248791491"
      ]
     },
     "execution_count": 48,
     "metadata": {},
     "output_type": "execute_result"
    }
   ],
   "source": [
    "#la media total de los datos es:\n",
    "Mu_dias = stats.mean(dias)\n",
    "Mu_dias"
=======
      "image/png": "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\n",
      "text/plain": [
       "<Figure size 432x288 with 1 Axes>"
      ]
     },
     "metadata": {
      "needs_background": "light"
     },
     "output_type": "display_data"
    }
   ],
   "source": [
    "# Grafiquemos la lista de días antes mencionados\n",
    "# Establecemos nuestras x\n",
    "x = [x for x in range(len(probabilidad))]\n",
    "# Graficamos nuestros datos anteriores\n",
    "plt.plot(x, probabilidad, label = 'Datos')\n",
    "# Colocamos nuestro modelo para hacer la comparación\n",
    "plt.plot(x, funcionNormal(mean=mean, std=std, x=x), linewidth=2, color='y', label=\"Modelo Normal\")\n",
    "# Le damos formato a la gráfica\n",
    "plt.xlabel('Dias')\n",
    "plt.ylabel('Datos normalizados')\n",
    "plt.grid(alpha = 0.3)\n",
    "plt.title('Ajuste de distribución normal')\n",
    "plt.show()"
>>>>>>> 528f88dc2033207b10ed246d06245d578999dd68
   ]
  },
  {
   "cell_type": "markdown",
   "metadata": {},
   "source": [
<<<<<<< HEAD
    "Afirmamos que las personas mueren en menos de 10 días de contraer la enfermedad. Entonces a partir de esto planteamos nuestras hipótesis:\n",
    "\n",
    "Hipótesis nula ($H_0$) : $\\mu = 10$\n",
    "\n",
    "Hipótesis alternativa ($H_1$) : $\\mu < 10$"
=======
    "**Note que el fenómeno no parece seguir el comportamiento normal, probaremos con otra distribución, pero primero, una optimización de los parámetros de la distribución con scipy (Librería de Python)**"
   ]
  },
  {
   "cell_type": "markdown",
   "metadata": {},
   "source": [
    "## Haremos una optimización con scipy"
>>>>>>> 528f88dc2033207b10ed246d06245d578999dd68
   ]
  },
  {
   "cell_type": "code",
<<<<<<< HEAD
   "execution_count": 124,
   "metadata": {},
   "outputs": [],
   "source": [
    "#Tomamos una muestra aleatoria de 100 personas sin reemplazo por obvias razones\n",
    "muestra = np.random.choice(dias, 100, replace=False)"
=======
   "execution_count": 30,
   "metadata": {},
   "outputs": [
    {
     "name": "stdout",
     "output_type": "stream",
     "text": [
      "10.027876248791491\n",
      "6.482110255862074\n"
     ]
    }
   ],
   "source": [
    "newMean, newStd = ss.norm.fit(dias)\n",
    "print(newMean)\n",
    "print(newStd)"
   ]
  },
  {
   "cell_type": "code",
   "execution_count": 31,
   "metadata": {},
   "outputs": [
    {
     "data": {
      "image/png": "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\n",
      "text/plain": [
       "<Figure size 432x288 with 1 Axes>"
      ]
     },
     "metadata": {
      "needs_background": "light"
     },
     "output_type": "display_data"
    }
   ],
   "source": [
    "# Graficamos nuestros datos anteriores\n",
    "plt.plot(x, probabilidad, label = 'Datos')\n",
    "# Colocamos nuestro modelo para hacer la comparación\n",
    "plt.plot(x, funcionNormal(mean=newMean, std=newStd, x=x), linewidth=2, color='y', label=\"Modelo Normal\")\n",
    "# Le damos formato a la gráfica\n",
    "plt.xlabel('Dias')\n",
    "plt.legend()\n",
    "plt.ylabel('Datos normalizados')\n",
    "plt.grid(alpha = 0.3)\n",
    "plt.title('Ajuste de distribución normal\\nOptimizada con scipy')\n",
    "plt.show()"
   ]
  },
  {
   "cell_type": "markdown",
   "metadata": {},
   "source": [
    "**Note que no hay ningún cambio considerable**"
   ]
  },
  {
   "cell_type": "markdown",
   "metadata": {},
   "source": [
    "Verifiquemos qué tan buena es esta distribución para modelar nuestros datos, usamos la función kstest de scipy, si \"pvalor\" sale muy cercano al 0 significa que es buena distribución"
>>>>>>> 528f88dc2033207b10ed246d06245d578999dd68
   ]
  },
  {
   "cell_type": "code",
<<<<<<< HEAD
   "execution_count": 125,
=======
   "execution_count": 32,
>>>>>>> 528f88dc2033207b10ed246d06245d578999dd68
   "metadata": {},
   "outputs": [
    {
     "name": "stdout",
     "output_type": "stream",
     "text": [
<<<<<<< HEAD
      "La media de la muestra es: 10\n",
      "La desviación estándar es: 5.916079783099616\n"
=======
      "nuestro pValor es de: 1.4715203563323593e-133\n"
>>>>>>> 528f88dc2033207b10ed246d06245d578999dd68
     ]
    }
   ],
   "source": [
<<<<<<< HEAD
    "#La media de la muestra\n",
    "Mu_m = stats.mean(muestra)\n",
    "print('La media de la muestra es: ' + str(Mu_m))\n",
    "\n",
    "#La desviación estándar \n",
    "Sig_m = stats.pstdev(muestra)\n",
    "print('La desviación estándar es: ' + str(Sig_m))"
=======
    "d, pvalor = ss.kstest(dias,\"norm\",args=(newMean, newStd))\n",
    "print(f\"nuestro pValor es de: {pvalor}\")"
>>>>>>> 528f88dc2033207b10ed246d06245d578999dd68
   ]
  },
  {
   "cell_type": "markdown",
   "metadata": {},
   "source": [
<<<<<<< HEAD
    "$\\alpha$ = P(z < k) $\\Rightarrow$ k = $\\frac{10-10}{5.9160/10}$ = 0\n",
    "\n",
    "$\\Rightarrow$ P(z < 0) = 0.5\n",
    "\n",
    "Como el nivel de significancia es muy alto de ninguna manera podemos rechazar nuestra hipótesis, por lo que plantearemos una nueva hipótesis"
=======
    "*El pvalor se acerca demasiado a 0, no es una buena aproximación intentemos con otra cosa*"
>>>>>>> 528f88dc2033207b10ed246d06245d578999dd68
   ]
  },
  {
   "cell_type": "markdown",
   "metadata": {},
   "source": [
<<<<<<< HEAD
    "Afirmamos que las personas mueren en menos de 15 días de contraer la enfermedad. Entonces a partir de esto planteamos nuestras hipótesis:\n",
    "\n",
    "Hipótesis nula ($H_0$) : $\\mu = 15$\n",
    "\n",
    "Hipótesis alternativa ($H_1$) : $\\mu < 15$"
=======
    "Una alternativa podría ser normalizar la curva, para ello evaluamos la siguiente integral."
>>>>>>> 528f88dc2033207b10ed246d06245d578999dd68
   ]
  },
  {
   "cell_type": "code",
<<<<<<< HEAD
   "execution_count": 126,
   "metadata": {},
   "outputs": [],
   "source": [
    "#Tomamos una nueva muestra aleatoria de 100 personas\n",
    "muestra = np.random.choice(dias, 100, replace=False)"
=======
   "execution_count": 39,
   "metadata": {},
   "outputs": [
    {
     "name": "stdout",
     "output_type": "stream",
     "text": [
      "El valor aproximado de nuestra integral es: 0.9390693384777816\n",
      "El error de nuestra intergal es: 4.025897491229289e-09\n"
     ]
    }
   ],
   "source": [
    "I1 = integrate.quad(funcionNormal, 0, np.inf, args=(newMean, newStd))\n",
    "print(f\"El valor aproximado de nuestra integral es: {I1[0]}\")\n",
    "print(f\"El error de nuestra intergal es: {I1[1]}\")"
>>>>>>> 528f88dc2033207b10ed246d06245d578999dd68
   ]
  },
  {
   "cell_type": "code",
<<<<<<< HEAD
   "execution_count": 127,
=======
   "execution_count": 46,
   "metadata": {},
   "outputs": [
    {
     "data": {
      "image/png": "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\n",
      "text/plain": [
       "<Figure size 432x288 with 1 Axes>"
      ]
     },
     "metadata": {
      "needs_background": "light"
     },
     "output_type": "display_data"
    }
   ],
   "source": [
    "# Hacemos la gráficación pero ahora con la curva normalizada:\n",
    "# Graficamos nuestros datos anteriores\n",
    "plt.plot(x, probabilidad, label = 'Datos')\n",
    "# Colocamos nuestro modelo para hacer la comparación y nuestro modelo normalizado para ver qué onda\n",
    "plt.plot(x, funcionNormal(mean=newMean, std=newStd, x=x)/I1[0], linewidth=2, color='y', label=\"Normal Normalizada\")\n",
    "plt.plot(x, funcionNormal(mean=newMean, std=newStd, x=x), linewidth=2, color='r', label=\"Modelo Normal\")\n",
    "# Le damos formato a la gráfica\n",
    "plt.xlabel('Dias')\n",
    "plt.legend()\n",
    "plt.ylabel('Datos normalizados')\n",
    "plt.grid(alpha = 0.3)\n",
    "plt.title('Ajuste de distribución normal\\nOptimizada con scipy')\n",
    "plt.show()"
   ]
  },
  {
   "cell_type": "markdown",
   "metadata": {},
   "source": [
    "**Sigue sin haber mucha diferencia la verdad, creo que intentaremos con otro modelo**"
   ]
  },
  {
   "cell_type": "markdown",
   "metadata": {},
   "source": [
    "# Distribución Lognormal"
   ]
  },
  {
   "cell_type": "code",
   "execution_count": 33,
>>>>>>> 528f88dc2033207b10ed246d06245d578999dd68
   "metadata": {},
   "outputs": [
    {
     "name": "stdout",
     "output_type": "stream",
     "text": [
<<<<<<< HEAD
      "La media de la muestra es: 10\n",
      "La desviación estándar es: 6.4031242374328485\n"
=======
      "scatter for data is 0.43685190551346076\n",
      "mean of data is 13.229403213135477\n"
>>>>>>> 528f88dc2033207b10ed246d06245d578999dd68
     ]
    }
   ],
   "source": [
<<<<<<< HEAD
    "#La media de la muestra\n",
    "Mu_m = stats.mean(muestra)\n",
    "print('La media de la muestra es: ' + str(Mu_m))\n",
    "\n",
    "#La desviación estándar \n",
    "Sig_m = stats.pstdev(muestra)\n",
    "print('La desviación estándar es: ' + str(Sig_m))"
=======
    "# Primero, ajustamos los parámetros a nuestros datos\n",
    "scatter,loc,mean = ss.lognorm.fit(dias)\n",
    "# Creamos nuestras x en donde se graficarán\n",
    "x = np.linspace(0,40,len(probabilidad))\n",
    "# Creamos nuestra modelo con nuestros parámetros ajustados\n",
    "pdf_fitted = ss.lognorm.pdf(x,scatter,loc,mean) #Gives the PDF\n",
    "# Imprimimos nuestros parámetros\n",
    "print(\"scatter for data is %s\" %scatter)\n",
    "print(\"mean of data is %s\" %mean)  "
   ]
  },
  {
   "cell_type": "code",
   "execution_count": 34,
   "metadata": {},
   "outputs": [
    {
     "data": {
      "image/png": "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\n",
      "text/plain": [
       "<Figure size 432x288 with 1 Axes>"
      ]
     },
     "metadata": {
      "needs_background": "light"
     },
     "output_type": "display_data"
    }
   ],
   "source": [
    "# Creamos nuestra gráfica de los datos\n",
    "plt.plot(x, probabilidad, label = 'Datos')\n",
    "# Creamos nuestra función de densidad de probabilidad\n",
    "pdf = ss.lognorm.pdf(x, scatter, scale=mean)\n",
    "# Imprimimos nuestra función\n",
    "plt.plot(x-3.5, pdf, 'k', c=\"y\", label=\"Modelo Log-Normal\")\n",
    "# Le damos formato\n",
    "plt.xlabel('Dias')\n",
    "plt.ylabel('Probabilidad de morir')\n",
    "plt.grid(alpha = 0.3)\n",
    "plt.title('Ajuste de distribución Log-Normal')\n",
    "plt.legend()\n",
    "plt.show()"
>>>>>>> 528f88dc2033207b10ed246d06245d578999dd68
   ]
  },
  {
   "cell_type": "markdown",
   "metadata": {},
   "source": [
<<<<<<< HEAD
    "$\\alpha$ = P(z < k) $\\Rightarrow$ k = $\\frac{10-15}{6.4031/10}$ = -7.80\n",
    "\n",
    "$\\Rightarrow$ P(z < -7.80) $\\approx$ 0\n",
    "\n",
    "Por lo que podemos rechazar nuestra hipótesis nula de que las personas que mueren de COVID-19 lo hacen en 15 días, en favor de la hipótesis de que lo hacen en menos de 15 días."
=======
    "Ahora, a continuación, graficaremos todas las curvas que obtuvimos para comparar"
   ]
  },
  {
   "cell_type": "code",
   "execution_count": 70,
   "metadata": {},
   "outputs": [
    {
     "data": {
      "image/png": "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\n",
      "text/plain": [
       "<Figure size 720x504 with 1 Axes>"
      ]
     },
     "metadata": {
      "needs_background": "light"
     },
     "output_type": "display_data"
    }
   ],
   "source": [
    "fig, ax = plt.subplots(figsize = (10, 7))\n",
    "# Graficamos la función normal\n",
    "ax.plot(x, funcionNormal(mean=newMean, std=newStd, x=x), linewidth=1, color='#40bad5', label=\"Modelo Normal\")\n",
    "# Ahora la versión normalizada\n",
    "ax.plot(x, funcionNormal(mean=newMean, std=newStd, x=x)/I1[0], linewidth=1.5, color='#035aa6', label=\"Modelo Normal Normalizado\")\n",
    "# Ahora nuestra versión log-normal\n",
    "ax.plot(x-3.5, pdf, '--', c=\"#120136\", label=\"Modelo Log-Normal\", linewidth=2)\n",
    "# Graficamos nuestros datos\n",
    "ax.scatter(x, probabilidad, label = 'Datos', c=\"#fcbf1e\", s=30)\n",
    "# Le damos formato a la gráfica\n",
    "plt.xlabel('Dias')\n",
    "plt.legend()\n",
    "plt.ylabel('Probabilidad de muerte')\n",
    "#plt.grid(alpha = 0.3)\n",
    "plt.title('Distintos Ajustes')\n",
    "plt.show()"
>>>>>>> 528f88dc2033207b10ed246d06245d578999dd68
   ]
  },
  {
   "cell_type": "code",
   "execution_count": null,
   "metadata": {},
   "outputs": [],
   "source": []
  }
 ],
 "metadata": {
  "kernelspec": {
   "display_name": "Python 3",
   "language": "python",
   "name": "python3"
  },
  "language_info": {
   "codemirror_mode": {
    "name": "ipython",
    "version": 3
   },
   "file_extension": ".py",
   "mimetype": "text/x-python",
   "name": "python",
   "nbconvert_exporter": "python",
   "pygments_lexer": "ipython3",
   "version": "3.7.4"
  }
 },
 "nbformat": 4,
 "nbformat_minor": 4
}
